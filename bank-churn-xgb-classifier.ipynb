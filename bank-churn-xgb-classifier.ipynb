{
 "cells": [
  {
   "cell_type": "code",
   "execution_count": null,
   "id": "61e84561",
   "metadata": {
    "_cell_guid": "b1076dfc-b9ad-4769-8c92-a6c4dae69d19",
    "_uuid": "8f2839f25d086af736a60e9eeb907d3b93b6e0e5",
    "jupyter": {
     "source_hidden": true
    },
    "papermill": {
     "duration": 0.013121,
     "end_time": "2024-01-30T13:23:00.608637",
     "exception": false,
     "start_time": "2024-01-30T13:23:00.595516",
     "status": "completed"
    },
    "tags": []
   },
   "outputs": [],
   "source": []
  },
  {
   "cell_type": "markdown",
   "id": "b3e313bc",
   "metadata": {
    "papermill": {
     "duration": 0.011705,
     "end_time": "2024-01-30T13:23:00.631637",
     "exception": false,
     "start_time": "2024-01-30T13:23:00.619932",
     "status": "completed"
    },
    "tags": []
   },
   "source": [
    "# Bank churn Analysis using XGB classifier\n"
   ]
  },
  {
   "cell_type": "markdown",
   "id": "7318e904",
   "metadata": {
    "papermill": {
     "duration": 0.010926,
     "end_time": "2024-01-30T13:23:00.654459",
     "exception": false,
     "start_time": "2024-01-30T13:23:00.643533",
     "status": "completed"
    },
    "tags": []
   },
   "source": [
    "# About Author\n",
    "\n",
    "👨🏽‍💻 Muhammad Ishaque\n",
    "\n",
    "📊 Data Analyst\n",
    "🌱 https://www.linkedin.com/in/muhammad-ishaque-/\n",
    "🥅 https://github.com/eshaque5830\n",
    "✳️ www.anchantech.com\n",
    "📫 eshaquehussain@gmail.com"
   ]
  },
  {
   "cell_type": "markdown",
   "id": "54ce54e5",
   "metadata": {
    "papermill": {
     "duration": 0.010865,
     "end_time": "2024-01-30T13:23:00.676437",
     "exception": false,
     "start_time": "2024-01-30T13:23:00.665572",
     "status": "completed"
    },
    "tags": []
   },
   "source": [
    "<img src=\"https://user-images.githubusercontent.com/58620359/174948746-5dc3418a-8296-4cc8-9561-f8f12ca9a0a4.png\" alt=\"Alt text\" width=\"750\" height=\"300\">\n",
    "\n"
   ]
  },
  {
   "cell_type": "markdown",
   "id": "2448be5c",
   "metadata": {
    "papermill": {
     "duration": 0.011001,
     "end_time": "2024-01-30T13:23:00.698544",
     "exception": false,
     "start_time": "2024-01-30T13:23:00.687543",
     "status": "completed"
    },
    "tags": []
   },
   "source": [
    "## 1- Data Exploration:\n",
    "- train.csv - the training dataset; Exited is the binary target\n",
    "- test.csv - the test dataset; your objective is to predict the probability of Exited\n",
    "- sample_submission.csv - a sample submission file in the correct format\n"
   ]
  },
  {
   "cell_type": "markdown",
   "id": "5e90dc79",
   "metadata": {
    "papermill": {
     "duration": 0.010855,
     "end_time": "2024-01-30T13:23:00.720459",
     "exception": false,
     "start_time": "2024-01-30T13:23:00.709604",
     "status": "completed"
    },
    "tags": []
   },
   "source": [
    "### 1.1-Data Description:\n",
    "\n",
    "- Customer ID: A unique identifier for each customer\n",
    "\n",
    "- Surname: The customer's surname or last name\n",
    "\n",
    "- Credit Score: A numerical value representing the customer's credit score\n",
    "\n",
    "- Geography: The country where the customer resides\n",
    "\n",
    "- Gender: The customer's gender\n",
    "\n",
    "- Age: The customer's age.\n",
    "\n",
    "- Tenure: The number of years the customer has been with the bank\n",
    "\n",
    "- Balance: The customer's account balance\n",
    "\n",
    "- NumOfProducts: The number of bank products the customer uses (e.g., savings account, credit card)\n",
    "\n",
    "- HasCrCard: Whether the customer has a credit card\n",
    "\n",
    "- IsActiveMember: Whether the customer is an active member\n",
    "\n",
    "- EstimatedSalary: The estimated salary of the customer\n",
    "\n",
    "- Exited: Whether the customer has churned (Target Variable)"
   ]
  },
  {
   "cell_type": "markdown",
   "id": "d38fa0e6",
   "metadata": {
    "papermill": {
     "duration": 0.011329,
     "end_time": "2024-01-30T13:23:00.743404",
     "exception": false,
     "start_time": "2024-01-30T13:23:00.732075",
     "status": "completed"
    },
    "tags": []
   },
   "source": [
    "### 1.2-Importing libraries"
   ]
  },
  {
   "cell_type": "code",
   "execution_count": 1,
   "id": "753c91cb",
   "metadata": {
    "execution": {
     "iopub.execute_input": "2024-01-30T13:23:00.770949Z",
     "iopub.status.busy": "2024-01-30T13:23:00.770499Z",
     "iopub.status.idle": "2024-01-30T13:23:03.556445Z",
     "shell.execute_reply": "2024-01-30T13:23:03.555137Z"
    },
    "papermill": {
     "duration": 2.80452,
     "end_time": "2024-01-30T13:23:03.559557",
     "exception": false,
     "start_time": "2024-01-30T13:23:00.755037",
     "status": "completed"
    },
    "tags": []
   },
   "outputs": [],
   "source": [
    "# Import libraries\n",
    "import pandas as pd\n",
    "import numpy as np\n",
    "import matplotlib.pyplot as plt\n",
    "import seaborn as sns\n",
    "\n",
    "# remove warnings\n",
    "import warnings\n",
    "warnings.filterwarnings('ignore')"
   ]
  },
  {
   "cell_type": "markdown",
   "id": "a50431e2",
   "metadata": {
    "papermill": {
     "duration": 0.01152,
     "end_time": "2024-01-30T13:23:03.582435",
     "exception": false,
     "start_time": "2024-01-30T13:23:03.570915",
     "status": "completed"
    },
    "tags": []
   },
   "source": [
    "### 1.3-Loading the datasets"
   ]
  },
  {
   "cell_type": "code",
   "execution_count": 2,
   "id": "9f89aa5a",
   "metadata": {
    "execution": {
     "iopub.execute_input": "2024-01-30T13:23:03.607067Z",
     "iopub.status.busy": "2024-01-30T13:23:03.606136Z",
     "iopub.status.idle": "2024-01-30T13:23:04.418451Z",
     "shell.execute_reply": "2024-01-30T13:23:04.417508Z"
    },
    "papermill": {
     "duration": 0.827814,
     "end_time": "2024-01-30T13:23:04.421347",
     "exception": false,
     "start_time": "2024-01-30T13:23:03.593533",
     "status": "completed"
    },
    "tags": []
   },
   "outputs": [],
   "source": [
    "# load the datasets\n",
    "df_train = pd.read_csv('/kaggle/input/playground-series-s4e1/train.csv')\n",
    "df_test = pd.read_csv('/kaggle/input/playground-series-s4e1/test.csv')\n",
    "submission = pd.read_csv('/kaggle/input/playground-series-s4e1/sample_submission.csv')"
   ]
  },
  {
   "cell_type": "code",
   "execution_count": 3,
   "id": "fdd33421",
   "metadata": {
    "execution": {
     "iopub.execute_input": "2024-01-30T13:23:04.446540Z",
     "iopub.status.busy": "2024-01-30T13:23:04.445619Z",
     "iopub.status.idle": "2024-01-30T13:23:04.471690Z",
     "shell.execute_reply": "2024-01-30T13:23:04.470638Z"
    },
    "papermill": {
     "duration": 0.041154,
     "end_time": "2024-01-30T13:23:04.474234",
     "exception": false,
     "start_time": "2024-01-30T13:23:04.433080",
     "status": "completed"
    },
    "tags": []
   },
   "outputs": [
    {
     "data": {
      "text/html": [
       "<div>\n",
       "<style scoped>\n",
       "    .dataframe tbody tr th:only-of-type {\n",
       "        vertical-align: middle;\n",
       "    }\n",
       "\n",
       "    .dataframe tbody tr th {\n",
       "        vertical-align: top;\n",
       "    }\n",
       "\n",
       "    .dataframe thead th {\n",
       "        text-align: right;\n",
       "    }\n",
       "</style>\n",
       "<table border=\"1\" class=\"dataframe\">\n",
       "  <thead>\n",
       "    <tr style=\"text-align: right;\">\n",
       "      <th></th>\n",
       "      <th>0</th>\n",
       "      <th>1</th>\n",
       "      <th>2</th>\n",
       "      <th>3</th>\n",
       "      <th>4</th>\n",
       "    </tr>\n",
       "  </thead>\n",
       "  <tbody>\n",
       "    <tr>\n",
       "      <th>id</th>\n",
       "      <td>0</td>\n",
       "      <td>1</td>\n",
       "      <td>2</td>\n",
       "      <td>3</td>\n",
       "      <td>4</td>\n",
       "    </tr>\n",
       "    <tr>\n",
       "      <th>CustomerId</th>\n",
       "      <td>15674932</td>\n",
       "      <td>15749177</td>\n",
       "      <td>15694510</td>\n",
       "      <td>15741417</td>\n",
       "      <td>15766172</td>\n",
       "    </tr>\n",
       "    <tr>\n",
       "      <th>Surname</th>\n",
       "      <td>Okwudilichukwu</td>\n",
       "      <td>Okwudiliolisa</td>\n",
       "      <td>Hsueh</td>\n",
       "      <td>Kao</td>\n",
       "      <td>Chiemenam</td>\n",
       "    </tr>\n",
       "    <tr>\n",
       "      <th>CreditScore</th>\n",
       "      <td>668</td>\n",
       "      <td>627</td>\n",
       "      <td>678</td>\n",
       "      <td>581</td>\n",
       "      <td>716</td>\n",
       "    </tr>\n",
       "    <tr>\n",
       "      <th>Geography</th>\n",
       "      <td>France</td>\n",
       "      <td>France</td>\n",
       "      <td>France</td>\n",
       "      <td>France</td>\n",
       "      <td>Spain</td>\n",
       "    </tr>\n",
       "    <tr>\n",
       "      <th>Gender</th>\n",
       "      <td>Male</td>\n",
       "      <td>Male</td>\n",
       "      <td>Male</td>\n",
       "      <td>Male</td>\n",
       "      <td>Male</td>\n",
       "    </tr>\n",
       "    <tr>\n",
       "      <th>Age</th>\n",
       "      <td>33.0</td>\n",
       "      <td>33.0</td>\n",
       "      <td>40.0</td>\n",
       "      <td>34.0</td>\n",
       "      <td>33.0</td>\n",
       "    </tr>\n",
       "    <tr>\n",
       "      <th>Tenure</th>\n",
       "      <td>3</td>\n",
       "      <td>1</td>\n",
       "      <td>10</td>\n",
       "      <td>2</td>\n",
       "      <td>5</td>\n",
       "    </tr>\n",
       "    <tr>\n",
       "      <th>Balance</th>\n",
       "      <td>0.0</td>\n",
       "      <td>0.0</td>\n",
       "      <td>0.0</td>\n",
       "      <td>148882.54</td>\n",
       "      <td>0.0</td>\n",
       "    </tr>\n",
       "    <tr>\n",
       "      <th>NumOfProducts</th>\n",
       "      <td>2</td>\n",
       "      <td>2</td>\n",
       "      <td>2</td>\n",
       "      <td>1</td>\n",
       "      <td>2</td>\n",
       "    </tr>\n",
       "    <tr>\n",
       "      <th>HasCrCard</th>\n",
       "      <td>1.0</td>\n",
       "      <td>1.0</td>\n",
       "      <td>1.0</td>\n",
       "      <td>1.0</td>\n",
       "      <td>1.0</td>\n",
       "    </tr>\n",
       "    <tr>\n",
       "      <th>IsActiveMember</th>\n",
       "      <td>0.0</td>\n",
       "      <td>1.0</td>\n",
       "      <td>0.0</td>\n",
       "      <td>1.0</td>\n",
       "      <td>1.0</td>\n",
       "    </tr>\n",
       "    <tr>\n",
       "      <th>EstimatedSalary</th>\n",
       "      <td>181449.97</td>\n",
       "      <td>49503.5</td>\n",
       "      <td>184866.69</td>\n",
       "      <td>84560.88</td>\n",
       "      <td>15068.83</td>\n",
       "    </tr>\n",
       "    <tr>\n",
       "      <th>Exited</th>\n",
       "      <td>0</td>\n",
       "      <td>0</td>\n",
       "      <td>0</td>\n",
       "      <td>0</td>\n",
       "      <td>0</td>\n",
       "    </tr>\n",
       "  </tbody>\n",
       "</table>\n",
       "</div>"
      ],
      "text/plain": [
       "                              0              1          2          3  \\\n",
       "id                            0              1          2          3   \n",
       "CustomerId             15674932       15749177   15694510   15741417   \n",
       "Surname          Okwudilichukwu  Okwudiliolisa      Hsueh        Kao   \n",
       "CreditScore                 668            627        678        581   \n",
       "Geography                France         France     France     France   \n",
       "Gender                     Male           Male       Male       Male   \n",
       "Age                        33.0           33.0       40.0       34.0   \n",
       "Tenure                        3              1         10          2   \n",
       "Balance                     0.0            0.0        0.0  148882.54   \n",
       "NumOfProducts                 2              2          2          1   \n",
       "HasCrCard                   1.0            1.0        1.0        1.0   \n",
       "IsActiveMember              0.0            1.0        0.0        1.0   \n",
       "EstimatedSalary       181449.97        49503.5  184866.69   84560.88   \n",
       "Exited                        0              0          0          0   \n",
       "\n",
       "                         4  \n",
       "id                       4  \n",
       "CustomerId        15766172  \n",
       "Surname          Chiemenam  \n",
       "CreditScore            716  \n",
       "Geography            Spain  \n",
       "Gender                Male  \n",
       "Age                   33.0  \n",
       "Tenure                   5  \n",
       "Balance                0.0  \n",
       "NumOfProducts            2  \n",
       "HasCrCard              1.0  \n",
       "IsActiveMember         1.0  \n",
       "EstimatedSalary   15068.83  \n",
       "Exited                   0  "
      ]
     },
     "execution_count": 3,
     "metadata": {},
     "output_type": "execute_result"
    }
   ],
   "source": [
    "# explorating the train dataset \n",
    "df_train.head().T"
   ]
  },
  {
   "cell_type": "code",
   "execution_count": 4,
   "id": "d6b3e777",
   "metadata": {
    "execution": {
     "iopub.execute_input": "2024-01-30T13:23:04.500664Z",
     "iopub.status.busy": "2024-01-30T13:23:04.499402Z",
     "iopub.status.idle": "2024-01-30T13:23:04.511807Z",
     "shell.execute_reply": "2024-01-30T13:23:04.510230Z"
    },
    "papermill": {
     "duration": 0.028928,
     "end_time": "2024-01-30T13:23:04.514782",
     "exception": false,
     "start_time": "2024-01-30T13:23:04.485854",
     "status": "completed"
    },
    "tags": []
   },
   "outputs": [],
   "source": [
    "df = df_train.copy() #assigning df_train to df"
   ]
  },
  {
   "cell_type": "code",
   "execution_count": 5,
   "id": "7af7a519",
   "metadata": {
    "execution": {
     "iopub.execute_input": "2024-01-30T13:23:04.539938Z",
     "iopub.status.busy": "2024-01-30T13:23:04.539451Z",
     "iopub.status.idle": "2024-01-30T13:23:04.720476Z",
     "shell.execute_reply": "2024-01-30T13:23:04.718978Z"
    },
    "papermill": {
     "duration": 0.197115,
     "end_time": "2024-01-30T13:23:04.723564",
     "exception": false,
     "start_time": "2024-01-30T13:23:04.526449",
     "status": "completed"
    },
    "tags": []
   },
   "outputs": [
    {
     "name": "stdout",
     "output_type": "stream",
     "text": [
      "<class 'pandas.core.frame.DataFrame'>\n",
      "RangeIndex: 165034 entries, 0 to 165033\n",
      "Data columns (total 14 columns):\n",
      " #   Column           Non-Null Count   Dtype  \n",
      "---  ------           --------------   -----  \n",
      " 0   id               165034 non-null  int64  \n",
      " 1   CustomerId       165034 non-null  int64  \n",
      " 2   Surname          165034 non-null  object \n",
      " 3   CreditScore      165034 non-null  int64  \n",
      " 4   Geography        165034 non-null  object \n",
      " 5   Gender           165034 non-null  object \n",
      " 6   Age              165034 non-null  float64\n",
      " 7   Tenure           165034 non-null  int64  \n",
      " 8   Balance          165034 non-null  float64\n",
      " 9   NumOfProducts    165034 non-null  int64  \n",
      " 10  HasCrCard        165034 non-null  float64\n",
      " 11  IsActiveMember   165034 non-null  float64\n",
      " 12  EstimatedSalary  165034 non-null  float64\n",
      " 13  Exited           165034 non-null  int64  \n",
      "dtypes: float64(5), int64(6), object(3)\n",
      "memory usage: 17.6+ MB\n"
     ]
    }
   ],
   "source": [
    "df.info()"
   ]
  },
  {
   "cell_type": "code",
   "execution_count": 6,
   "id": "205396d0",
   "metadata": {
    "execution": {
     "iopub.execute_input": "2024-01-30T13:23:04.749383Z",
     "iopub.status.busy": "2024-01-30T13:23:04.748966Z",
     "iopub.status.idle": "2024-01-30T13:23:04.812526Z",
     "shell.execute_reply": "2024-01-30T13:23:04.811213Z"
    },
    "papermill": {
     "duration": 0.080188,
     "end_time": "2024-01-30T13:23:04.815574",
     "exception": false,
     "start_time": "2024-01-30T13:23:04.735386",
     "status": "completed"
    },
    "tags": []
   },
   "outputs": [
    {
     "data": {
      "text/plain": [
       "id             0\n",
       "CustomerId     0\n",
       "Surname        0\n",
       "CreditScore    0\n",
       "Geography      0\n",
       "dtype: int64"
      ]
     },
     "execution_count": 6,
     "metadata": {},
     "output_type": "execute_result"
    }
   ],
   "source": [
    "# find and plot null values\n",
    "df.isnull().sum().sort_values(ascending=False).head(5)"
   ]
  },
  {
   "cell_type": "code",
   "execution_count": 7,
   "id": "e9e11ba3",
   "metadata": {
    "execution": {
     "iopub.execute_input": "2024-01-30T13:23:04.841778Z",
     "iopub.status.busy": "2024-01-30T13:23:04.841343Z",
     "iopub.status.idle": "2024-01-30T13:23:04.960785Z",
     "shell.execute_reply": "2024-01-30T13:23:04.959460Z"
    },
    "papermill": {
     "duration": 0.135857,
     "end_time": "2024-01-30T13:23:04.963661",
     "exception": false,
     "start_time": "2024-01-30T13:23:04.827804",
     "status": "completed"
    },
    "tags": []
   },
   "outputs": [
    {
     "data": {
      "text/html": [
       "<div>\n",
       "<style scoped>\n",
       "    .dataframe tbody tr th:only-of-type {\n",
       "        vertical-align: middle;\n",
       "    }\n",
       "\n",
       "    .dataframe tbody tr th {\n",
       "        vertical-align: top;\n",
       "    }\n",
       "\n",
       "    .dataframe thead th {\n",
       "        text-align: right;\n",
       "    }\n",
       "</style>\n",
       "<table border=\"1\" class=\"dataframe\">\n",
       "  <thead>\n",
       "    <tr style=\"text-align: right;\">\n",
       "      <th></th>\n",
       "      <th>count</th>\n",
       "      <th>mean</th>\n",
       "      <th>std</th>\n",
       "      <th>min</th>\n",
       "      <th>25%</th>\n",
       "      <th>50%</th>\n",
       "      <th>75%</th>\n",
       "      <th>max</th>\n",
       "    </tr>\n",
       "  </thead>\n",
       "  <tbody>\n",
       "    <tr>\n",
       "      <th>id</th>\n",
       "      <td>165034.0</td>\n",
       "      <td>8.251650e+04</td>\n",
       "      <td>47641.356500</td>\n",
       "      <td>0.00</td>\n",
       "      <td>41258.25</td>\n",
       "      <td>82516.5</td>\n",
       "      <td>1.237748e+05</td>\n",
       "      <td>165033.00</td>\n",
       "    </tr>\n",
       "    <tr>\n",
       "      <th>CustomerId</th>\n",
       "      <td>165034.0</td>\n",
       "      <td>1.569201e+07</td>\n",
       "      <td>71397.816791</td>\n",
       "      <td>15565701.00</td>\n",
       "      <td>15633141.00</td>\n",
       "      <td>15690169.0</td>\n",
       "      <td>1.575682e+07</td>\n",
       "      <td>15815690.00</td>\n",
       "    </tr>\n",
       "    <tr>\n",
       "      <th>CreditScore</th>\n",
       "      <td>165034.0</td>\n",
       "      <td>6.564544e+02</td>\n",
       "      <td>80.103340</td>\n",
       "      <td>350.00</td>\n",
       "      <td>597.00</td>\n",
       "      <td>659.0</td>\n",
       "      <td>7.100000e+02</td>\n",
       "      <td>850.00</td>\n",
       "    </tr>\n",
       "    <tr>\n",
       "      <th>Age</th>\n",
       "      <td>165034.0</td>\n",
       "      <td>3.812589e+01</td>\n",
       "      <td>8.867205</td>\n",
       "      <td>18.00</td>\n",
       "      <td>32.00</td>\n",
       "      <td>37.0</td>\n",
       "      <td>4.200000e+01</td>\n",
       "      <td>92.00</td>\n",
       "    </tr>\n",
       "    <tr>\n",
       "      <th>Tenure</th>\n",
       "      <td>165034.0</td>\n",
       "      <td>5.020353e+00</td>\n",
       "      <td>2.806159</td>\n",
       "      <td>0.00</td>\n",
       "      <td>3.00</td>\n",
       "      <td>5.0</td>\n",
       "      <td>7.000000e+00</td>\n",
       "      <td>10.00</td>\n",
       "    </tr>\n",
       "    <tr>\n",
       "      <th>Balance</th>\n",
       "      <td>165034.0</td>\n",
       "      <td>5.547809e+04</td>\n",
       "      <td>62817.663278</td>\n",
       "      <td>0.00</td>\n",
       "      <td>0.00</td>\n",
       "      <td>0.0</td>\n",
       "      <td>1.199395e+05</td>\n",
       "      <td>250898.09</td>\n",
       "    </tr>\n",
       "    <tr>\n",
       "      <th>NumOfProducts</th>\n",
       "      <td>165034.0</td>\n",
       "      <td>1.554455e+00</td>\n",
       "      <td>0.547154</td>\n",
       "      <td>1.00</td>\n",
       "      <td>1.00</td>\n",
       "      <td>2.0</td>\n",
       "      <td>2.000000e+00</td>\n",
       "      <td>4.00</td>\n",
       "    </tr>\n",
       "    <tr>\n",
       "      <th>HasCrCard</th>\n",
       "      <td>165034.0</td>\n",
       "      <td>7.539537e-01</td>\n",
       "      <td>0.430707</td>\n",
       "      <td>0.00</td>\n",
       "      <td>1.00</td>\n",
       "      <td>1.0</td>\n",
       "      <td>1.000000e+00</td>\n",
       "      <td>1.00</td>\n",
       "    </tr>\n",
       "    <tr>\n",
       "      <th>IsActiveMember</th>\n",
       "      <td>165034.0</td>\n",
       "      <td>4.977702e-01</td>\n",
       "      <td>0.499997</td>\n",
       "      <td>0.00</td>\n",
       "      <td>0.00</td>\n",
       "      <td>0.0</td>\n",
       "      <td>1.000000e+00</td>\n",
       "      <td>1.00</td>\n",
       "    </tr>\n",
       "    <tr>\n",
       "      <th>EstimatedSalary</th>\n",
       "      <td>165034.0</td>\n",
       "      <td>1.125748e+05</td>\n",
       "      <td>50292.865585</td>\n",
       "      <td>11.58</td>\n",
       "      <td>74637.57</td>\n",
       "      <td>117948.0</td>\n",
       "      <td>1.551525e+05</td>\n",
       "      <td>199992.48</td>\n",
       "    </tr>\n",
       "    <tr>\n",
       "      <th>Exited</th>\n",
       "      <td>165034.0</td>\n",
       "      <td>2.115988e-01</td>\n",
       "      <td>0.408443</td>\n",
       "      <td>0.00</td>\n",
       "      <td>0.00</td>\n",
       "      <td>0.0</td>\n",
       "      <td>0.000000e+00</td>\n",
       "      <td>1.00</td>\n",
       "    </tr>\n",
       "  </tbody>\n",
       "</table>\n",
       "</div>"
      ],
      "text/plain": [
       "                    count          mean           std          min  \\\n",
       "id               165034.0  8.251650e+04  47641.356500         0.00   \n",
       "CustomerId       165034.0  1.569201e+07  71397.816791  15565701.00   \n",
       "CreditScore      165034.0  6.564544e+02     80.103340       350.00   \n",
       "Age              165034.0  3.812589e+01      8.867205        18.00   \n",
       "Tenure           165034.0  5.020353e+00      2.806159         0.00   \n",
       "Balance          165034.0  5.547809e+04  62817.663278         0.00   \n",
       "NumOfProducts    165034.0  1.554455e+00      0.547154         1.00   \n",
       "HasCrCard        165034.0  7.539537e-01      0.430707         0.00   \n",
       "IsActiveMember   165034.0  4.977702e-01      0.499997         0.00   \n",
       "EstimatedSalary  165034.0  1.125748e+05  50292.865585        11.58   \n",
       "Exited           165034.0  2.115988e-01      0.408443         0.00   \n",
       "\n",
       "                         25%         50%           75%          max  \n",
       "id                  41258.25     82516.5  1.237748e+05    165033.00  \n",
       "CustomerId       15633141.00  15690169.0  1.575682e+07  15815690.00  \n",
       "CreditScore           597.00       659.0  7.100000e+02       850.00  \n",
       "Age                    32.00        37.0  4.200000e+01        92.00  \n",
       "Tenure                  3.00         5.0  7.000000e+00        10.00  \n",
       "Balance                 0.00         0.0  1.199395e+05    250898.09  \n",
       "NumOfProducts           1.00         2.0  2.000000e+00         4.00  \n",
       "HasCrCard               1.00         1.0  1.000000e+00         1.00  \n",
       "IsActiveMember          0.00         0.0  1.000000e+00         1.00  \n",
       "EstimatedSalary     74637.57    117948.0  1.551525e+05    199992.48  \n",
       "Exited                  0.00         0.0  0.000000e+00         1.00  "
      ]
     },
     "execution_count": 7,
     "metadata": {},
     "output_type": "execute_result"
    }
   ],
   "source": [
    "df.describe().T"
   ]
  },
  {
   "cell_type": "code",
   "execution_count": 8,
   "id": "75de2228",
   "metadata": {
    "execution": {
     "iopub.execute_input": "2024-01-30T13:23:04.991401Z",
     "iopub.status.busy": "2024-01-30T13:23:04.990618Z",
     "iopub.status.idle": "2024-01-30T13:23:04.996867Z",
     "shell.execute_reply": "2024-01-30T13:23:04.996082Z"
    },
    "papermill": {
     "duration": 0.022974,
     "end_time": "2024-01-30T13:23:04.999485",
     "exception": false,
     "start_time": "2024-01-30T13:23:04.976511",
     "status": "completed"
    },
    "tags": []
   },
   "outputs": [
    {
     "data": {
      "text/plain": [
       "Index(['id', 'CustomerId', 'Surname', 'CreditScore', 'Geography', 'Gender',\n",
       "       'Age', 'Tenure', 'Balance', 'NumOfProducts', 'HasCrCard',\n",
       "       'IsActiveMember', 'EstimatedSalary', 'Exited'],\n",
       "      dtype='object')"
      ]
     },
     "execution_count": 8,
     "metadata": {},
     "output_type": "execute_result"
    }
   ],
   "source": [
    "df.columns"
   ]
  },
  {
   "cell_type": "code",
   "execution_count": 9,
   "id": "92f2a0c2",
   "metadata": {
    "execution": {
     "iopub.execute_input": "2024-01-30T13:23:05.026594Z",
     "iopub.status.busy": "2024-01-30T13:23:05.025761Z",
     "iopub.status.idle": "2024-01-30T13:23:05.104303Z",
     "shell.execute_reply": "2024-01-30T13:23:05.102909Z"
    },
    "papermill": {
     "duration": 0.095954,
     "end_time": "2024-01-30T13:23:05.107895",
     "exception": false,
     "start_time": "2024-01-30T13:23:05.011941",
     "status": "completed"
    },
    "tags": []
   },
   "outputs": [
    {
     "name": "stdout",
     "output_type": "stream",
     "text": [
      "Geography\n",
      "France     94215\n",
      "Spain      36213\n",
      "Germany    34606\n",
      "Name: count, dtype: int64\n",
      "\n",
      "Gender\n",
      "Male      93150\n",
      "Female    71884\n",
      "Name: count, dtype: int64\n",
      "\n",
      "Tenure\n",
      "2     18045\n",
      "7     17810\n",
      "4     17554\n",
      "8     17520\n",
      "5     17268\n",
      "1     16760\n",
      "9     16709\n",
      "3     16630\n",
      "6     15822\n",
      "10     5909\n",
      "0      5007\n",
      "Name: count, dtype: int64\n",
      "\n",
      "NumOfProducts\n",
      "2    84291\n",
      "1    77374\n",
      "3     2894\n",
      "4      475\n",
      "Name: count, dtype: int64\n",
      "\n",
      "HasCrCard\n",
      "1.0    124428\n",
      "0.0     40606\n",
      "Name: count, dtype: int64\n",
      "\n",
      "IsActiveMember\n",
      "0.0    82885\n",
      "1.0    82149\n",
      "Name: count, dtype: int64\n",
      "\n",
      "Exited\n",
      "0    130113\n",
      "1     34921\n",
      "Name: count, dtype: int64\n",
      "\n"
     ]
    }
   ],
   "source": [
    "#counts for each unique categoricalvalue in the specified columns\n",
    "cat_cols = ['Geography', 'Gender', 'Tenure', 'NumOfProducts', 'HasCrCard',\n",
    "       'IsActiveMember', 'Exited']\n",
    "\n",
    "num_cols = ['CreditScore', 'Age', 'Balance', 'EstimatedSalary']\n",
    "\n",
    "# find the value counts of the categorical columns\n",
    "for col in cat_cols:\n",
    "    print(df[col].value_counts())\n",
    "    print()"
   ]
  },
  {
   "cell_type": "markdown",
   "id": "7f352713",
   "metadata": {
    "papermill": {
     "duration": 0.012668,
     "end_time": "2024-01-30T13:23:05.133289",
     "exception": false,
     "start_time": "2024-01-30T13:23:05.120621",
     "status": "completed"
    },
    "tags": []
   },
   "source": [
    "### 1.4- Plotting"
   ]
  },
  {
   "cell_type": "code",
   "execution_count": 10,
   "id": "08e7d687",
   "metadata": {
    "execution": {
     "iopub.execute_input": "2024-01-30T13:23:05.160395Z",
     "iopub.status.busy": "2024-01-30T13:23:05.159981Z",
     "iopub.status.idle": "2024-01-30T13:23:09.996697Z",
     "shell.execute_reply": "2024-01-30T13:23:09.995735Z"
    },
    "papermill": {
     "duration": 4.854968,
     "end_time": "2024-01-30T13:23:10.000819",
     "exception": false,
     "start_time": "2024-01-30T13:23:05.145851",
     "status": "completed"
    },
    "tags": []
   },
   "outputs": [
    {
     "data": {
      "image/png": "[encoded data removed]",
      "text/plain": [
       "<Figure size 640x480 with 1 Axes>"
      ]
     },
     "metadata": {},
     "output_type": "display_data"
    },
    {
     "data": {
      "image/png": "[encoded data removed]",
      "text/plain": [
       "<Figure size 640x480 with 1 Axes>"
      ]
     },
     "metadata": {},
     "output_type": "display_data"
    },
    {
     "data": {
      "image/png": "[encoded data removed]",
      "text/plain": [
       "<Figure size 640x480 with 1 Axes>"
      ]
     },
     "metadata": {},
     "output_type": "display_data"
    },
    {
     "data": {
      "image/png": "[encoded data removed]",
      "text/plain": [
       "<Figure size 640x480 with 1 Axes>"
      ]
     },
     "metadata": {},
     "output_type": "display_data"
    }
   ],
   "source": [
    "\n",
    "# create histogram of numerical columns using sns and kde=true\n",
    "import matplotlib.pyplot as plt\n",
    "\n",
    "for col in num_cols:\n",
    "    sns.distplot(df[col], kde=True)\n",
    "    plt.axvline(df[col].mean(), color='r', linestyle='--', label='Mean')\n",
    "    plt.axvline(df[col].median(), color='g', linestyle='--', label='Median')\n",
    "    plt.legend()\n",
    "    plt.show()"
   ]
  },
  {
   "cell_type": "code",
   "execution_count": 11,
   "id": "4aa3a3bf",
   "metadata": {
    "execution": {
     "iopub.execute_input": "2024-01-30T13:23:10.038433Z",
     "iopub.status.busy": "2024-01-30T13:23:10.037987Z",
     "iopub.status.idle": "2024-01-30T13:23:12.663040Z",
     "shell.execute_reply": "2024-01-30T13:23:12.661970Z"
    },
    "papermill": {
     "duration": 2.645247,
     "end_time": "2024-01-30T13:23:12.665961",
     "exception": false,
     "start_time": "2024-01-30T13:23:10.020714",
     "status": "completed"
    },
    "tags": []
   },
   "outputs": [
    {
     "data": {
      "image/png": "[encoded data removed]",
      "text/plain": [
       "<Figure size 640x480 with 1 Axes>"
      ]
     },
     "metadata": {},
     "output_type": "display_data"
    },
    {
     "data": {
      "image/png": "[encoded data removed]",
      "text/plain": [
       "<Figure size 640x480 with 1 Axes>"
      ]
     },
     "metadata": {},
     "output_type": "display_data"
    },
    {
     "data": {
      "image/png": "[encoded data removed]",
      "text/plain": [
       "<Figure size 640x480 with 1 Axes>"
      ]
     },
     "metadata": {},
     "output_type": "display_data"
    },
    {
     "data": {
      "image/png": "[encoded data removed]",
      "text/plain": [
       "<Figure size 640x480 with 1 Axes>"
      ]
     },
     "metadata": {},
     "output_type": "display_data"
    },
    {
     "data": {
      "image/png": "[encoded data removed]",
      "text/plain": [
       "<Figure size 640x480 with 1 Axes>"
      ]
     },
     "metadata": {},
     "output_type": "display_data"
    },
    {
     "data": {
      "image/png": "[encoded data removed]",
      "text/plain": [
       "<Figure size 640x480 with 1 Axes>"
      ]
     },
     "metadata": {},
     "output_type": "display_data"
    },
    {
     "data": {
      "image/png": "[encoded data removed]",
      "text/plain": [
       "<Figure size 640x480 with 1 Axes>"
      ]
     },
     "metadata": {},
     "output_type": "display_data"
    }
   ],
   "source": [
    "# create a count plot for each cat column\n",
    "for col in cat_cols:\n",
    "    sns.countplot(df , x = df[col])\n",
    "    plt.show()"
   ]
  },
  {
   "cell_type": "code",
   "execution_count": 12,
   "id": "07458631",
   "metadata": {
    "execution": {
     "iopub.execute_input": "2024-01-30T13:23:12.707607Z",
     "iopub.status.busy": "2024-01-30T13:23:12.706955Z",
     "iopub.status.idle": "2024-01-30T13:23:12.713161Z",
     "shell.execute_reply": "2024-01-30T13:23:12.711759Z"
    },
    "papermill": {
     "duration": 0.02895,
     "end_time": "2024-01-30T13:23:12.715876",
     "exception": false,
     "start_time": "2024-01-30T13:23:12.686926",
     "status": "completed"
    },
    "tags": []
   },
   "outputs": [
    {
     "name": "stdout",
     "output_type": "stream",
     "text": [
      "The train dataset has 165034 rows and 14 columns\n"
     ]
    }
   ],
   "source": [
    "# print the number of rows and columns\n",
    "print(f\"The train dataset has {df.shape[0]} rows and {df.shape[1]} columns\")"
   ]
  },
  {
   "cell_type": "code",
   "execution_count": 13,
   "id": "52ade371",
   "metadata": {
    "execution": {
     "iopub.execute_input": "2024-01-30T13:23:12.756217Z",
     "iopub.status.busy": "2024-01-30T13:23:12.755405Z",
     "iopub.status.idle": "2024-01-30T13:23:12.762633Z",
     "shell.execute_reply": "2024-01-30T13:23:12.761404Z"
    },
    "papermill": {
     "duration": 0.030064,
     "end_time": "2024-01-30T13:23:12.765380",
     "exception": false,
     "start_time": "2024-01-30T13:23:12.735316",
     "status": "completed"
    },
    "tags": []
   },
   "outputs": [
    {
     "data": {
      "text/plain": [
       "Index(['id', 'CustomerId', 'Surname', 'CreditScore', 'Geography', 'Gender',\n",
       "       'Age', 'Tenure', 'Balance', 'NumOfProducts', 'HasCrCard',\n",
       "       'IsActiveMember', 'EstimatedSalary', 'Exited'],\n",
       "      dtype='object')"
      ]
     },
     "execution_count": 13,
     "metadata": {},
     "output_type": "execute_result"
    }
   ],
   "source": [
    "df.columns"
   ]
  },
  {
   "cell_type": "markdown",
   "id": "1f634524",
   "metadata": {
    "papermill": {
     "duration": 0.018766,
     "end_time": "2024-01-30T13:23:12.803254",
     "exception": false,
     "start_time": "2024-01-30T13:23:12.784488",
     "status": "completed"
    },
    "tags": []
   },
   "source": [
    "### 1.5- Data Prepration"
   ]
  },
  {
   "cell_type": "code",
   "execution_count": 14,
   "id": "cb85b088",
   "metadata": {
    "execution": {
     "iopub.execute_input": "2024-01-30T13:23:12.843599Z",
     "iopub.status.busy": "2024-01-30T13:23:12.843200Z",
     "iopub.status.idle": "2024-01-30T13:23:13.177179Z",
     "shell.execute_reply": "2024-01-30T13:23:13.175926Z"
    },
    "papermill": {
     "duration": 0.357874,
     "end_time": "2024-01-30T13:23:13.180365",
     "exception": false,
     "start_time": "2024-01-30T13:23:12.822491",
     "status": "completed"
    },
    "tags": []
   },
   "outputs": [],
   "source": [
    "from sklearn.preprocessing import LabelEncoder\n",
    "# Create an instance of LabelEncoder\n",
    "le = LabelEncoder()\n",
    "# Apply LabelEncoder to 'Geography' column\n",
    "df['Geography'] = le.fit_transform(df['Geography'])\n",
    "# Apply LabelEncoder to 'Gender' column\n",
    "df['Gender'] = le.fit_transform(df['Gender'])"
   ]
  },
  {
   "cell_type": "code",
   "execution_count": 15,
   "id": "bbf308d4",
   "metadata": {
    "execution": {
     "iopub.execute_input": "2024-01-30T13:23:13.221875Z",
     "iopub.status.busy": "2024-01-30T13:23:13.220803Z",
     "iopub.status.idle": "2024-01-30T13:23:13.243089Z",
     "shell.execute_reply": "2024-01-30T13:23:13.241628Z"
    },
    "papermill": {
     "duration": 0.046676,
     "end_time": "2024-01-30T13:23:13.246106",
     "exception": false,
     "start_time": "2024-01-30T13:23:13.199430",
     "status": "completed"
    },
    "tags": []
   },
   "outputs": [
    {
     "data": {
      "text/html": [
       "<div>\n",
       "<style scoped>\n",
       "    .dataframe tbody tr th:only-of-type {\n",
       "        vertical-align: middle;\n",
       "    }\n",
       "\n",
       "    .dataframe tbody tr th {\n",
       "        vertical-align: top;\n",
       "    }\n",
       "\n",
       "    .dataframe thead th {\n",
       "        text-align: right;\n",
       "    }\n",
       "</style>\n",
       "<table border=\"1\" class=\"dataframe\">\n",
       "  <thead>\n",
       "    <tr style=\"text-align: right;\">\n",
       "      <th></th>\n",
       "      <th>id</th>\n",
       "      <th>CustomerId</th>\n",
       "      <th>Surname</th>\n",
       "      <th>CreditScore</th>\n",
       "      <th>Geography</th>\n",
       "      <th>Gender</th>\n",
       "      <th>Age</th>\n",
       "      <th>Tenure</th>\n",
       "      <th>Balance</th>\n",
       "      <th>NumOfProducts</th>\n",
       "      <th>HasCrCard</th>\n",
       "      <th>IsActiveMember</th>\n",
       "      <th>EstimatedSalary</th>\n",
       "      <th>Exited</th>\n",
       "    </tr>\n",
       "  </thead>\n",
       "  <tbody>\n",
       "    <tr>\n",
       "      <th>0</th>\n",
       "      <td>0</td>\n",
       "      <td>15674932</td>\n",
       "      <td>Okwudilichukwu</td>\n",
       "      <td>668</td>\n",
       "      <td>0</td>\n",
       "      <td>1</td>\n",
       "      <td>33.0</td>\n",
       "      <td>3</td>\n",
       "      <td>0.00</td>\n",
       "      <td>2</td>\n",
       "      <td>1.0</td>\n",
       "      <td>0.0</td>\n",
       "      <td>181449.97</td>\n",
       "      <td>0</td>\n",
       "    </tr>\n",
       "    <tr>\n",
       "      <th>1</th>\n",
       "      <td>1</td>\n",
       "      <td>15749177</td>\n",
       "      <td>Okwudiliolisa</td>\n",
       "      <td>627</td>\n",
       "      <td>0</td>\n",
       "      <td>1</td>\n",
       "      <td>33.0</td>\n",
       "      <td>1</td>\n",
       "      <td>0.00</td>\n",
       "      <td>2</td>\n",
       "      <td>1.0</td>\n",
       "      <td>1.0</td>\n",
       "      <td>49503.50</td>\n",
       "      <td>0</td>\n",
       "    </tr>\n",
       "    <tr>\n",
       "      <th>2</th>\n",
       "      <td>2</td>\n",
       "      <td>15694510</td>\n",
       "      <td>Hsueh</td>\n",
       "      <td>678</td>\n",
       "      <td>0</td>\n",
       "      <td>1</td>\n",
       "      <td>40.0</td>\n",
       "      <td>10</td>\n",
       "      <td>0.00</td>\n",
       "      <td>2</td>\n",
       "      <td>1.0</td>\n",
       "      <td>0.0</td>\n",
       "      <td>184866.69</td>\n",
       "      <td>0</td>\n",
       "    </tr>\n",
       "    <tr>\n",
       "      <th>3</th>\n",
       "      <td>3</td>\n",
       "      <td>15741417</td>\n",
       "      <td>Kao</td>\n",
       "      <td>581</td>\n",
       "      <td>0</td>\n",
       "      <td>1</td>\n",
       "      <td>34.0</td>\n",
       "      <td>2</td>\n",
       "      <td>148882.54</td>\n",
       "      <td>1</td>\n",
       "      <td>1.0</td>\n",
       "      <td>1.0</td>\n",
       "      <td>84560.88</td>\n",
       "      <td>0</td>\n",
       "    </tr>\n",
       "    <tr>\n",
       "      <th>4</th>\n",
       "      <td>4</td>\n",
       "      <td>15766172</td>\n",
       "      <td>Chiemenam</td>\n",
       "      <td>716</td>\n",
       "      <td>2</td>\n",
       "      <td>1</td>\n",
       "      <td>33.0</td>\n",
       "      <td>5</td>\n",
       "      <td>0.00</td>\n",
       "      <td>2</td>\n",
       "      <td>1.0</td>\n",
       "      <td>1.0</td>\n",
       "      <td>15068.83</td>\n",
       "      <td>0</td>\n",
       "    </tr>\n",
       "  </tbody>\n",
       "</table>\n",
       "</div>"
      ],
      "text/plain": [
       "   id  CustomerId         Surname  CreditScore  Geography  Gender   Age  \\\n",
       "0   0    15674932  Okwudilichukwu          668          0       1  33.0   \n",
       "1   1    15749177   Okwudiliolisa          627          0       1  33.0   \n",
       "2   2    15694510           Hsueh          678          0       1  40.0   \n",
       "3   3    15741417             Kao          581          0       1  34.0   \n",
       "4   4    15766172       Chiemenam          716          2       1  33.0   \n",
       "\n",
       "   Tenure    Balance  NumOfProducts  HasCrCard  IsActiveMember  \\\n",
       "0       3       0.00              2        1.0             0.0   \n",
       "1       1       0.00              2        1.0             1.0   \n",
       "2      10       0.00              2        1.0             0.0   \n",
       "3       2  148882.54              1        1.0             1.0   \n",
       "4       5       0.00              2        1.0             1.0   \n",
       "\n",
       "   EstimatedSalary  Exited  \n",
       "0        181449.97       0  \n",
       "1         49503.50       0  \n",
       "2        184866.69       0  \n",
       "3         84560.88       0  \n",
       "4         15068.83       0  "
      ]
     },
     "execution_count": 15,
     "metadata": {},
     "output_type": "execute_result"
    }
   ],
   "source": [
    "df.head()"
   ]
  },
  {
   "cell_type": "code",
   "execution_count": 16,
   "id": "7f779233",
   "metadata": {
    "execution": {
     "iopub.execute_input": "2024-01-30T13:23:13.352594Z",
     "iopub.status.busy": "2024-01-30T13:23:13.352068Z",
     "iopub.status.idle": "2024-01-30T13:23:13.365530Z",
     "shell.execute_reply": "2024-01-30T13:23:13.364603Z"
    },
    "papermill": {
     "duration": 0.036731,
     "end_time": "2024-01-30T13:23:13.368012",
     "exception": false,
     "start_time": "2024-01-30T13:23:13.331281",
     "status": "completed"
    },
    "tags": []
   },
   "outputs": [],
   "source": [
    "# split the data into X and y\n",
    "X = df.drop(['Exited', 'id', 'CustomerId', 'Surname'] , axis=1)\n",
    "y = df['Exited']"
   ]
  },
  {
   "cell_type": "code",
   "execution_count": 17,
   "id": "5c8a1bcf",
   "metadata": {
    "execution": {
     "iopub.execute_input": "2024-01-30T13:23:13.412025Z",
     "iopub.status.busy": "2024-01-30T13:23:13.411207Z",
     "iopub.status.idle": "2024-01-30T13:23:13.428990Z",
     "shell.execute_reply": "2024-01-30T13:23:13.427728Z"
    },
    "papermill": {
     "duration": 0.043244,
     "end_time": "2024-01-30T13:23:13.431990",
     "exception": false,
     "start_time": "2024-01-30T13:23:13.388746",
     "status": "completed"
    },
    "tags": []
   },
   "outputs": [
    {
     "data": {
      "text/html": [
       "<div>\n",
       "<style scoped>\n",
       "    .dataframe tbody tr th:only-of-type {\n",
       "        vertical-align: middle;\n",
       "    }\n",
       "\n",
       "    .dataframe tbody tr th {\n",
       "        vertical-align: top;\n",
       "    }\n",
       "\n",
       "    .dataframe thead th {\n",
       "        text-align: right;\n",
       "    }\n",
       "</style>\n",
       "<table border=\"1\" class=\"dataframe\">\n",
       "  <thead>\n",
       "    <tr style=\"text-align: right;\">\n",
       "      <th></th>\n",
       "      <th>CreditScore</th>\n",
       "      <th>Geography</th>\n",
       "      <th>Gender</th>\n",
       "      <th>Age</th>\n",
       "      <th>Tenure</th>\n",
       "      <th>Balance</th>\n",
       "      <th>NumOfProducts</th>\n",
       "      <th>HasCrCard</th>\n",
       "      <th>IsActiveMember</th>\n",
       "      <th>EstimatedSalary</th>\n",
       "    </tr>\n",
       "  </thead>\n",
       "  <tbody>\n",
       "    <tr>\n",
       "      <th>0</th>\n",
       "      <td>668</td>\n",
       "      <td>0</td>\n",
       "      <td>1</td>\n",
       "      <td>33.0</td>\n",
       "      <td>3</td>\n",
       "      <td>0.00</td>\n",
       "      <td>2</td>\n",
       "      <td>1.0</td>\n",
       "      <td>0.0</td>\n",
       "      <td>181449.97</td>\n",
       "    </tr>\n",
       "    <tr>\n",
       "      <th>1</th>\n",
       "      <td>627</td>\n",
       "      <td>0</td>\n",
       "      <td>1</td>\n",
       "      <td>33.0</td>\n",
       "      <td>1</td>\n",
       "      <td>0.00</td>\n",
       "      <td>2</td>\n",
       "      <td>1.0</td>\n",
       "      <td>1.0</td>\n",
       "      <td>49503.50</td>\n",
       "    </tr>\n",
       "    <tr>\n",
       "      <th>2</th>\n",
       "      <td>678</td>\n",
       "      <td>0</td>\n",
       "      <td>1</td>\n",
       "      <td>40.0</td>\n",
       "      <td>10</td>\n",
       "      <td>0.00</td>\n",
       "      <td>2</td>\n",
       "      <td>1.0</td>\n",
       "      <td>0.0</td>\n",
       "      <td>184866.69</td>\n",
       "    </tr>\n",
       "    <tr>\n",
       "      <th>3</th>\n",
       "      <td>581</td>\n",
       "      <td>0</td>\n",
       "      <td>1</td>\n",
       "      <td>34.0</td>\n",
       "      <td>2</td>\n",
       "      <td>148882.54</td>\n",
       "      <td>1</td>\n",
       "      <td>1.0</td>\n",
       "      <td>1.0</td>\n",
       "      <td>84560.88</td>\n",
       "    </tr>\n",
       "    <tr>\n",
       "      <th>4</th>\n",
       "      <td>716</td>\n",
       "      <td>2</td>\n",
       "      <td>1</td>\n",
       "      <td>33.0</td>\n",
       "      <td>5</td>\n",
       "      <td>0.00</td>\n",
       "      <td>2</td>\n",
       "      <td>1.0</td>\n",
       "      <td>1.0</td>\n",
       "      <td>15068.83</td>\n",
       "    </tr>\n",
       "  </tbody>\n",
       "</table>\n",
       "</div>"
      ],
      "text/plain": [
       "   CreditScore  Geography  Gender   Age  Tenure    Balance  NumOfProducts  \\\n",
       "0          668          0       1  33.0       3       0.00              2   \n",
       "1          627          0       1  33.0       1       0.00              2   \n",
       "2          678          0       1  40.0      10       0.00              2   \n",
       "3          581          0       1  34.0       2  148882.54              1   \n",
       "4          716          2       1  33.0       5       0.00              2   \n",
       "\n",
       "   HasCrCard  IsActiveMember  EstimatedSalary  \n",
       "0        1.0             0.0        181449.97  \n",
       "1        1.0             1.0         49503.50  \n",
       "2        1.0             0.0        184866.69  \n",
       "3        1.0             1.0         84560.88  \n",
       "4        1.0             1.0         15068.83  "
      ]
     },
     "execution_count": 17,
     "metadata": {},
     "output_type": "execute_result"
    }
   ],
   "source": [
    "X.head()"
   ]
  },
  {
   "cell_type": "code",
   "execution_count": 18,
   "id": "8aad5892",
   "metadata": {
    "execution": {
     "iopub.execute_input": "2024-01-30T13:23:13.475180Z",
     "iopub.status.busy": "2024-01-30T13:23:13.473989Z",
     "iopub.status.idle": "2024-01-30T13:23:13.485335Z",
     "shell.execute_reply": "2024-01-30T13:23:13.484102Z"
    },
    "papermill": {
     "duration": 0.035316,
     "end_time": "2024-01-30T13:23:13.487597",
     "exception": false,
     "start_time": "2024-01-30T13:23:13.452281",
     "status": "completed"
    },
    "tags": []
   },
   "outputs": [
    {
     "data": {
      "text/plain": [
       "Exited\n",
       "0    130113\n",
       "1     34921\n",
       "Name: count, dtype: int64"
      ]
     },
     "execution_count": 18,
     "metadata": {},
     "output_type": "execute_result"
    }
   ],
   "source": [
    "y.value_counts()"
   ]
  },
  {
   "cell_type": "code",
   "execution_count": 19,
   "id": "468a36a6",
   "metadata": {
    "execution": {
     "iopub.execute_input": "2024-01-30T13:23:13.529581Z",
     "iopub.status.busy": "2024-01-30T13:23:13.529136Z",
     "iopub.status.idle": "2024-01-30T13:23:13.717348Z",
     "shell.execute_reply": "2024-01-30T13:23:13.716153Z"
    },
    "papermill": {
     "duration": 0.212796,
     "end_time": "2024-01-30T13:23:13.720413",
     "exception": false,
     "start_time": "2024-01-30T13:23:13.507617",
     "status": "completed"
    },
    "tags": []
   },
   "outputs": [],
   "source": [
    "# train test split the data\n",
    "from sklearn.model_selection import train_test_split\n",
    "X_train , X_test , y_train , y_test = train_test_split(X , y , test_size = 0.2 , random_state = 42)"
   ]
  },
  {
   "cell_type": "code",
   "execution_count": 20,
   "id": "fa0890ad",
   "metadata": {
    "execution": {
     "iopub.execute_input": "2024-01-30T13:23:13.763469Z",
     "iopub.status.busy": "2024-01-30T13:23:13.762760Z",
     "iopub.status.idle": "2024-01-30T13:23:13.779789Z",
     "shell.execute_reply": "2024-01-30T13:23:13.778808Z"
    },
    "papermill": {
     "duration": 0.042109,
     "end_time": "2024-01-30T13:23:13.782532",
     "exception": false,
     "start_time": "2024-01-30T13:23:13.740423",
     "status": "completed"
    },
    "tags": []
   },
   "outputs": [
    {
     "data": {
      "text/html": [
       "<div>\n",
       "<style scoped>\n",
       "    .dataframe tbody tr th:only-of-type {\n",
       "        vertical-align: middle;\n",
       "    }\n",
       "\n",
       "    .dataframe tbody tr th {\n",
       "        vertical-align: top;\n",
       "    }\n",
       "\n",
       "    .dataframe thead th {\n",
       "        text-align: right;\n",
       "    }\n",
       "</style>\n",
       "<table border=\"1\" class=\"dataframe\">\n",
       "  <thead>\n",
       "    <tr style=\"text-align: right;\">\n",
       "      <th></th>\n",
       "      <th>CreditScore</th>\n",
       "      <th>Geography</th>\n",
       "      <th>Gender</th>\n",
       "      <th>Age</th>\n",
       "      <th>Tenure</th>\n",
       "      <th>Balance</th>\n",
       "      <th>NumOfProducts</th>\n",
       "      <th>HasCrCard</th>\n",
       "      <th>IsActiveMember</th>\n",
       "      <th>EstimatedSalary</th>\n",
       "    </tr>\n",
       "  </thead>\n",
       "  <tbody>\n",
       "    <tr>\n",
       "      <th>0</th>\n",
       "      <td>668</td>\n",
       "      <td>0</td>\n",
       "      <td>1</td>\n",
       "      <td>33.0</td>\n",
       "      <td>3</td>\n",
       "      <td>0.00</td>\n",
       "      <td>2</td>\n",
       "      <td>1.0</td>\n",
       "      <td>0.0</td>\n",
       "      <td>181449.97</td>\n",
       "    </tr>\n",
       "    <tr>\n",
       "      <th>1</th>\n",
       "      <td>627</td>\n",
       "      <td>0</td>\n",
       "      <td>1</td>\n",
       "      <td>33.0</td>\n",
       "      <td>1</td>\n",
       "      <td>0.00</td>\n",
       "      <td>2</td>\n",
       "      <td>1.0</td>\n",
       "      <td>1.0</td>\n",
       "      <td>49503.50</td>\n",
       "    </tr>\n",
       "    <tr>\n",
       "      <th>2</th>\n",
       "      <td>678</td>\n",
       "      <td>0</td>\n",
       "      <td>1</td>\n",
       "      <td>40.0</td>\n",
       "      <td>10</td>\n",
       "      <td>0.00</td>\n",
       "      <td>2</td>\n",
       "      <td>1.0</td>\n",
       "      <td>0.0</td>\n",
       "      <td>184866.69</td>\n",
       "    </tr>\n",
       "    <tr>\n",
       "      <th>3</th>\n",
       "      <td>581</td>\n",
       "      <td>0</td>\n",
       "      <td>1</td>\n",
       "      <td>34.0</td>\n",
       "      <td>2</td>\n",
       "      <td>148882.54</td>\n",
       "      <td>1</td>\n",
       "      <td>1.0</td>\n",
       "      <td>1.0</td>\n",
       "      <td>84560.88</td>\n",
       "    </tr>\n",
       "    <tr>\n",
       "      <th>4</th>\n",
       "      <td>716</td>\n",
       "      <td>2</td>\n",
       "      <td>1</td>\n",
       "      <td>33.0</td>\n",
       "      <td>5</td>\n",
       "      <td>0.00</td>\n",
       "      <td>2</td>\n",
       "      <td>1.0</td>\n",
       "      <td>1.0</td>\n",
       "      <td>15068.83</td>\n",
       "    </tr>\n",
       "  </tbody>\n",
       "</table>\n",
       "</div>"
      ],
      "text/plain": [
       "   CreditScore  Geography  Gender   Age  Tenure    Balance  NumOfProducts  \\\n",
       "0          668          0       1  33.0       3       0.00              2   \n",
       "1          627          0       1  33.0       1       0.00              2   \n",
       "2          678          0       1  40.0      10       0.00              2   \n",
       "3          581          0       1  34.0       2  148882.54              1   \n",
       "4          716          2       1  33.0       5       0.00              2   \n",
       "\n",
       "   HasCrCard  IsActiveMember  EstimatedSalary  \n",
       "0        1.0             0.0        181449.97  \n",
       "1        1.0             1.0         49503.50  \n",
       "2        1.0             0.0        184866.69  \n",
       "3        1.0             1.0         84560.88  \n",
       "4        1.0             1.0         15068.83  "
      ]
     },
     "execution_count": 20,
     "metadata": {},
     "output_type": "execute_result"
    }
   ],
   "source": [
    "X.head()"
   ]
  },
  {
   "cell_type": "code",
   "execution_count": 21,
   "id": "a842db78",
   "metadata": {
    "execution": {
     "iopub.execute_input": "2024-01-30T13:23:13.827052Z",
     "iopub.status.busy": "2024-01-30T13:23:13.826199Z",
     "iopub.status.idle": "2024-01-30T13:23:13.836732Z",
     "shell.execute_reply": "2024-01-30T13:23:13.835542Z"
    },
    "papermill": {
     "duration": 0.03595,
     "end_time": "2024-01-30T13:23:13.838993",
     "exception": false,
     "start_time": "2024-01-30T13:23:13.803043",
     "status": "completed"
    },
    "tags": []
   },
   "outputs": [
    {
     "data": {
      "text/plain": [
       "Exited\n",
       "0    130113\n",
       "1     34921\n",
       "Name: count, dtype: int64"
      ]
     },
     "execution_count": 21,
     "metadata": {},
     "output_type": "execute_result"
    }
   ],
   "source": [
    "y.value_counts()"
   ]
  },
  {
   "cell_type": "code",
   "execution_count": 22,
   "id": "7d560081",
   "metadata": {
    "execution": {
     "iopub.execute_input": "2024-01-30T13:23:13.881238Z",
     "iopub.status.busy": "2024-01-30T13:23:13.880809Z",
     "iopub.status.idle": "2024-01-30T13:23:13.925647Z",
     "shell.execute_reply": "2024-01-30T13:23:13.924337Z"
    },
    "papermill": {
     "duration": 0.069501,
     "end_time": "2024-01-30T13:23:13.928544",
     "exception": false,
     "start_time": "2024-01-30T13:23:13.859043",
     "status": "completed"
    },
    "tags": []
   },
   "outputs": [],
   "source": [
    "# train test split the data\n",
    "from sklearn.model_selection import train_test_split\n",
    "X_train , X_test , y_train , y_test = train_test_split(X , y , test_size = 0.2 , random_state = 42)"
   ]
  },
  {
   "cell_type": "code",
   "execution_count": 23,
   "id": "8b2a7329",
   "metadata": {
    "execution": {
     "iopub.execute_input": "2024-01-30T13:23:13.970656Z",
     "iopub.status.busy": "2024-01-30T13:23:13.970252Z",
     "iopub.status.idle": "2024-01-30T13:23:13.990338Z",
     "shell.execute_reply": "2024-01-30T13:23:13.988989Z"
    },
    "papermill": {
     "duration": 0.044534,
     "end_time": "2024-01-30T13:23:13.993259",
     "exception": false,
     "start_time": "2024-01-30T13:23:13.948725",
     "status": "completed"
    },
    "tags": []
   },
   "outputs": [],
   "source": [
    "from sklearn.preprocessing import MinMaxScaler\n",
    "# min max scaling to scale the Balancce and EstimatedSalary columns\n",
    "def scale_columns(df, columns):\n",
    " \n",
    "    from sklearn.preprocessing import MinMaxScaler\n",
    "    scaler = MinMaxScaler()\n",
    "    \n",
    "    for column in columns:\n",
    "        df[column] = scaler.fit_transform(df[[column]])\n",
    "    \n",
    "    return df\n",
    "\n",
    "df = scale_columns(df, ['Balance', 'EstimatedSalary'])"
   ]
  },
  {
   "cell_type": "markdown",
   "id": "f1250dfa",
   "metadata": {
    "papermill": {
     "duration": 0.020253,
     "end_time": "2024-01-30T13:23:14.033694",
     "exception": false,
     "start_time": "2024-01-30T13:23:14.013441",
     "status": "completed"
    },
    "tags": []
   },
   "source": [
    "### 1.6- Model"
   ]
  },
  {
   "cell_type": "code",
   "execution_count": 24,
   "id": "ea3d3082",
   "metadata": {
    "execution": {
     "iopub.execute_input": "2024-01-30T13:23:14.078208Z",
     "iopub.status.busy": "2024-01-30T13:23:14.077772Z",
     "iopub.status.idle": "2024-01-30T13:24:21.608854Z",
     "shell.execute_reply": "2024-01-30T13:24:21.607670Z"
    },
    "papermill": {
     "duration": 67.577589,
     "end_time": "2024-01-30T13:24:21.632318",
     "exception": false,
     "start_time": "2024-01-30T13:23:14.054729",
     "status": "completed"
    },
    "tags": []
   },
   "outputs": [
    {
     "name": "stdout",
     "output_type": "stream",
     "text": [
      "Accuracy score: 0.8677856212318599\n",
      "Precision score: 0.8677856212318599\n",
      "Recall score: 0.8677856212318599\n",
      "F1 score: 0.8677856212318599\n"
     ]
    }
   ],
   "source": [
    "from xgboost import XGBClassifier\n",
    "from sklearn.model_selection import GridSearchCV\n",
    "from sklearn.metrics import accuracy_score, precision_score, recall_score, f1_score\n",
    "from sklearn.model_selection import train_test_split\n",
    "\n",
    "# Assuming you have X_train, X_test, y_train, and y_test defined\n",
    "\n",
    "# Hyperparameter tuning with grid search\n",
    "param_grid = {\n",
    "    'n_estimators': [50, 100, 200],\n",
    "    'max_depth': [3, 5, 7],\n",
    "    'learning_rate': [0.01, 0.1, 0.2]\n",
    "}\n",
    "\n",
    "xgb = XGBClassifier()\n",
    "grid_search = GridSearchCV(estimator=xgb, param_grid=param_grid, cv=3, scoring='accuracy')\n",
    "grid_search.fit(X_train, y_train)\n",
    "# Get the best hyperparameters\n",
    "best_params = grid_search.best_params_\n",
    "\n",
    "# Train the model with the best hyperparameters\n",
    "best_xgb = XGBClassifier(**best_params)\n",
    "best_xgb.fit(X_train, y_train)\n",
    "\n",
    "# Predict the test data\n",
    "y_pred = best_xgb.predict(X_test)\n",
    "\n",
    "# Print the updated scores\n",
    "print('Accuracy score:', accuracy_score(y_test, y_pred))\n",
    "print('Precision score:', precision_score(y_test, y_pred, average='micro'))\n",
    "print('Recall score:', recall_score(y_test, y_pred, average='micro'))\n",
    "print('F1 score:', f1_score(y_test, y_pred, average='micro'))"
   ]
  },
  {
   "cell_type": "markdown",
   "id": "834c263f",
   "metadata": {
    "papermill": {
     "duration": 0.020934,
     "end_time": "2024-01-30T13:24:21.674249",
     "exception": false,
     "start_time": "2024-01-30T13:24:21.653315",
     "status": "completed"
    },
    "tags": []
   },
   "source": [
    "\n",
    "### The evaluation summary for bank customer churn analysis based on the provided scores is as follows:\n",
    "\n",
    "#### Accuracy Score: 86.78%\n",
    "#### Precision Score: 86.78%\n",
    "#### Recall Score: 86.78%\n",
    "#### F1 Score: 86.78%\n",
    "The scores indicate a relatively balanced performance across different evaluation metrics, suggesting a consistent and accurate model for predicting bank customer churn."
   ]
  },
  {
   "cell_type": "code",
   "execution_count": null,
   "id": "afe98a36",
   "metadata": {
    "papermill": {
     "duration": 0.026511,
     "end_time": "2024-01-30T13:24:21.727308",
     "exception": false,
     "start_time": "2024-01-30T13:24:21.700797",
     "status": "completed"
    },
    "tags": []
   },
   "outputs": [],
   "source": []
  }
 ],
 "metadata": {
  "kaggle": {
   "accelerator": "none",
   "dataSources": [
    {
     "databundleVersionId": 7405009,
     "sourceId": 65711,
     "sourceType": "competition"
    }
   ],
   "dockerImageVersionId": 30635,
   "isGpuEnabled": false,
   "isInternetEnabled": false,
   "language": "python",
   "sourceType": "notebook"
  },
  "kernelspec": {
   "display_name": "Python 3",
   "language": "python",
   "name": "python3"
  },
  "language_info": {
   "codemirror_mode": {
    "name": "ipython",
    "version": 3
   },
   "file_extension": ".py",
   "mimetype": "text/x-python",
   "name": "python",
   "nbconvert_exporter": "python",
   "pygments_lexer": "ipython3",
   "version": "3.10.12"
  },
  "papermill": {
   "default_parameters": {},
   "duration": 86.551549,
   "end_time": "2024-01-30T13:24:22.478269",
   "environment_variables": {},
   "exception": null,
   "input_path": "__notebook__.ipynb",
   "output_path": "__notebook__.ipynb",
   "parameters": {},
   "start_time": "2024-01-30T13:22:55.926720",
   "version": "2.4.0"
  }
 },
 "nbformat": 4,
 "nbformat_minor": 5
}
