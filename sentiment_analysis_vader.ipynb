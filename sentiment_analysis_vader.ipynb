{
  "cells": [
    {
      "cell_type": "markdown",
      "metadata": {
        "colab_type": "text",
        "id": "view-in-github"
      },
      "source": [
        "<a href=\"https://colab.research.google.com/github/Kavya2099/British-Airways-virtual-internship/blob/main/British_Airways_Task1.ipynb\" target=\"_parent\"><img src=\"https://colab.research.google.com/assets/colab-badge.svg\" alt=\"Open In Colab\"/></a>"
      ]
    },
    {
      "cell_type": "markdown",
      "metadata": {},
      "source": [
        "# PAKISTAN International Airlines - Sentiment Analysis using VADER:\n",
        "## **VADER (Valence Aware Dictionary and sEntiment Reasoner):**\n",
        "VADER is a method that determines the sentiment of a piece of text, such as a sentence or paragraph. VADER is a pre-built, lexicon-based sentiment analysis tool designed for social media text. It is particularly effective for analyzing sentiments expressed in short texts, which makes it suitable for applications like Twitter sentiment analysis."
      ]
    },
    {
      "cell_type": "markdown",
      "metadata": {
        "id": "UqHY9jRQiMCM"
      },
      "source": [
        "# 1- Web scraping and analysis\n",
        "\n",
        "This Jupyter notebook includes some code to get you started with web scraping. We will use a package called `BeautifulSoup` to collect the data from the web. Once you've collected your data and saved it into a local `.csv` file you should start with your analysis.\n",
        "\n",
        "### Scraping data from Skytrax\n",
        "\n",
        "If you visit [https://www.airlinequality.com] you can see that there is a lot of data there. For this task, we are only interested in reviews related to British Airways and the Airline itself.\n",
        "\n",
        "If you navigate to this link: [https://www.airlinequality.com/airline-reviews/pia-pakistan-international-airlines/] you will see this data. Now, we can use `Python` and `BeautifulSoup` to collect all the links to the reviews and then to collect the text data on each of the individual review links."
      ]
    },
    {
      "cell_type": "code",
      "execution_count": 1,
      "metadata": {
        "id": "F2dzclMYiMCc"
      },
      "outputs": [],
      "source": [
        "#streamlit(python3.10.0)\n",
        "import requests\n",
        "from bs4 import BeautifulSoup\n",
        "import pandas as pd"
      ]
    },
    {
      "cell_type": "code",
      "execution_count": 2,
      "metadata": {
        "colab": {
          "base_uri": "https://localhost:8080/"
        },
        "id": "YF4BTP0jiMCd",
        "outputId": "98b06b26-ff18-4259-d0d5-7a8f7be5d907"
      },
      "outputs": [
        {
          "name": "stdout",
          "output_type": "stream",
          "text": [
            "Scraping page 1\n",
            "   ---> 100 total reviews\n",
            "Scraping page 2\n",
            "   ---> 163 total reviews\n",
            "Scraping page 3\n",
            "   ---> 163 total reviews\n",
            "Scraping page 4\n",
            "   ---> 163 total reviews\n",
            "Scraping page 5\n",
            "   ---> 163 total reviews\n",
            "Scraping page 6\n",
            "   ---> 163 total reviews\n",
            "Scraping page 7\n",
            "   ---> 163 total reviews\n",
            "Scraping page 8\n",
            "   ---> 163 total reviews\n",
            "Scraping page 9\n",
            "   ---> 163 total reviews\n",
            "Scraping page 10\n",
            "   ---> 163 total reviews\n"
          ]
        }
      ],
      "source": [
        "base_url = \"https://www.airlinequality.com/airline-reviews/pia-pakistan-international-airlines/\"\n",
        "pages = 10\n",
        "page_size = 100\n",
        "\n",
        "reviews = []\n",
        "\n",
        "# for i in range(1, pages + 1):\n",
        "for i in range(1, pages + 1):\n",
        "\n",
        "    print(f\"Scraping page {i}\")\n",
        "\n",
        "    # Create URL to collect links from paginated data\n",
        "    url = f\"{base_url}/page/{i}/?sortby=post_date%3ADesc&pagesize={page_size}\"\n",
        "\n",
        "    # Collect HTML data from this page\n",
        "    response = requests.get(url)\n",
        "\n",
        "    # Parse content\n",
        "    content = response.content\n",
        "    parsed_content = BeautifulSoup(content, 'html.parser')\n",
        "    for para in parsed_content.find_all(\"div\", {\"class\": \"text_content\"}):\n",
        "        reviews.append(para.get_text())\n",
        "    \n",
        "    print(f\"   ---> {len(reviews)} total reviews\")"
      ]
    },
    {
      "cell_type": "code",
      "execution_count": 3,
      "metadata": {
        "colab": {
          "base_uri": "https://localhost:8080/",
          "height": 206
        },
        "id": "GQ20WVawiMCg",
        "outputId": "274e2e9a-e106-4e9b-84dd-f9018f48751e"
      },
      "outputs": [
        {
          "data": {
            "text/html": [
              "<div>\n",
              "<style scoped>\n",
              "    .dataframe tbody tr th:only-of-type {\n",
              "        vertical-align: middle;\n",
              "    }\n",
              "\n",
              "    .dataframe tbody tr th {\n",
              "        vertical-align: top;\n",
              "    }\n",
              "\n",
              "    .dataframe thead th {\n",
              "        text-align: right;\n",
              "    }\n",
              "</style>\n",
              "<table border=\"1\" class=\"dataframe\">\n",
              "  <thead>\n",
              "    <tr style=\"text-align: right;\">\n",
              "      <th></th>\n",
              "      <th>reviews</th>\n",
              "    </tr>\n",
              "  </thead>\n",
              "  <tbody>\n",
              "    <tr>\n",
              "      <th>0</th>\n",
              "      <td>✅ Trip Verified | I was very disappointed with...</td>\n",
              "    </tr>\n",
              "    <tr>\n",
              "      <th>1</th>\n",
              "      <td>Not Verified |   Given all the negative review...</td>\n",
              "    </tr>\n",
              "    <tr>\n",
              "      <th>2</th>\n",
              "      <td>✅ Trip Verified |  I flew from Karachi to Toro...</td>\n",
              "    </tr>\n",
              "    <tr>\n",
              "      <th>3</th>\n",
              "      <td>✅ Trip Verified |  They cancelled my original ...</td>\n",
              "    </tr>\n",
              "    <tr>\n",
              "      <th>4</th>\n",
              "      <td>✅ Trip Verified | Karachi to Gwadar. Travelled...</td>\n",
              "    </tr>\n",
              "  </tbody>\n",
              "</table>\n",
              "</div>"
            ],
            "text/plain": [
              "                                             reviews\n",
              "0  ✅ Trip Verified | I was very disappointed with...\n",
              "1  Not Verified |   Given all the negative review...\n",
              "2  ✅ Trip Verified |  I flew from Karachi to Toro...\n",
              "3  ✅ Trip Verified |  They cancelled my original ...\n",
              "4  ✅ Trip Verified | Karachi to Gwadar. Travelled..."
            ]
          },
          "execution_count": 3,
          "metadata": {},
          "output_type": "execute_result"
        }
      ],
      "source": [
        "df = pd.DataFrame()\n",
        "df[\"reviews\"] = reviews\n",
        "df.head()"
      ]
    },
    {
      "cell_type": "markdown",
      "metadata": {
        "id": "HIN2Fl2siMCi"
      },
      "source": [
        "Congratulations! Now you have your dataset for this task! The loops above collected 1000 reviews by iterating through the paginated pages on the website. However, if you want to collect more data, try increasing the number of pages!\n",
        "\n",
        " The next thing that you should do is clean this data to remove any unnecessary text from each of the rows. For example, \"✅ Trip Verified\" can be removed from each row if it exists, as it's not relevant to what we want to investigate."
      ]
    },
    {
      "cell_type": "code",
      "execution_count": 5,
      "metadata": {
        "colab": {
          "base_uri": "https://localhost:8080/",
          "height": 424
        },
        "id": "k_FreE6BiMCj",
        "outputId": "9d3a580f-e974-4e10-9845-ad6aff8ab3e4"
      },
      "outputs": [
        {
          "data": {
            "text/html": [
              "<div>\n",
              "<style scoped>\n",
              "    .dataframe tbody tr th:only-of-type {\n",
              "        vertical-align: middle;\n",
              "    }\n",
              "\n",
              "    .dataframe tbody tr th {\n",
              "        vertical-align: top;\n",
              "    }\n",
              "\n",
              "    .dataframe thead th {\n",
              "        text-align: right;\n",
              "    }\n",
              "</style>\n",
              "<table border=\"1\" class=\"dataframe\">\n",
              "  <thead>\n",
              "    <tr style=\"text-align: right;\">\n",
              "      <th></th>\n",
              "      <th>reviews</th>\n",
              "    </tr>\n",
              "  </thead>\n",
              "  <tbody>\n",
              "    <tr>\n",
              "      <th>0</th>\n",
              "      <td>✅ Trip Verified | I was very disappointed with...</td>\n",
              "    </tr>\n",
              "    <tr>\n",
              "      <th>1</th>\n",
              "      <td>Not Verified |   Given all the negative review...</td>\n",
              "    </tr>\n",
              "    <tr>\n",
              "      <th>2</th>\n",
              "      <td>✅ Trip Verified |  I flew from Karachi to Toro...</td>\n",
              "    </tr>\n",
              "    <tr>\n",
              "      <th>3</th>\n",
              "      <td>✅ Trip Verified |  They cancelled my original ...</td>\n",
              "    </tr>\n",
              "    <tr>\n",
              "      <th>4</th>\n",
              "      <td>✅ Trip Verified | Karachi to Gwadar. Travelled...</td>\n",
              "    </tr>\n",
              "    <tr>\n",
              "      <th>...</th>\n",
              "      <td>...</td>\n",
              "    </tr>\n",
              "    <tr>\n",
              "      <th>158</th>\n",
              "      <td>LHR to Islamabad and impressed with the new 77...</td>\n",
              "    </tr>\n",
              "    <tr>\n",
              "      <th>159</th>\n",
              "      <td>Economy class LHE-LHR. We found staff to be qu...</td>\n",
              "    </tr>\n",
              "    <tr>\n",
              "      <th>160</th>\n",
              "      <td>Lahore to Karachi on a 747-Combi - pretty old ...</td>\n",
              "    </tr>\n",
              "    <tr>\n",
              "      <th>161</th>\n",
              "      <td>KHI-LHE Economy class on 777. Excellent legroo...</td>\n",
              "    </tr>\n",
              "    <tr>\n",
              "      <th>162</th>\n",
              "      <td>Travelled economy plus to Lahore from Mnachest...</td>\n",
              "    </tr>\n",
              "  </tbody>\n",
              "</table>\n",
              "<p>163 rows × 1 columns</p>\n",
              "</div>"
            ],
            "text/plain": [
              "                                               reviews\n",
              "0    ✅ Trip Verified | I was very disappointed with...\n",
              "1    Not Verified |   Given all the negative review...\n",
              "2    ✅ Trip Verified |  I flew from Karachi to Toro...\n",
              "3    ✅ Trip Verified |  They cancelled my original ...\n",
              "4    ✅ Trip Verified | Karachi to Gwadar. Travelled...\n",
              "..                                                 ...\n",
              "158  LHR to Islamabad and impressed with the new 77...\n",
              "159  Economy class LHE-LHR. We found staff to be qu...\n",
              "160  Lahore to Karachi on a 747-Combi - pretty old ...\n",
              "161  KHI-LHE Economy class on 777. Excellent legroo...\n",
              "162  Travelled economy plus to Lahore from Mnachest...\n",
              "\n",
              "[163 rows x 1 columns]"
            ]
          },
          "execution_count": 5,
          "metadata": {},
          "output_type": "execute_result"
        }
      ],
      "source": [
        "df"
      ]
    },
    {
      "cell_type": "markdown",
      "metadata": {
        "id": "iq0SYZ3pkPK5"
      },
      "source": [
        "Removing the parts before | in the reviews column"
      ]
    },
    {
      "cell_type": "code",
      "execution_count": 6,
      "metadata": {
        "id": "piNYUwLHkObh"
      },
      "outputs": [],
      "source": [
        "\n",
        "df['reviews'] = df['reviews'].str.split('|', expand=True)[1]\n",
        "\n",
        "\n"
      ]
    },
    {
      "cell_type": "code",
      "execution_count": 7,
      "metadata": {
        "colab": {
          "base_uri": "https://localhost:8080/",
          "height": 424
        },
        "id": "f26iHsFbkFbD",
        "outputId": "a9608a3f-e1c5-4694-d9b3-134de8f9314c"
      },
      "outputs": [
        {
          "data": {
            "text/html": [
              "<div>\n",
              "<style scoped>\n",
              "    .dataframe tbody tr th:only-of-type {\n",
              "        vertical-align: middle;\n",
              "    }\n",
              "\n",
              "    .dataframe tbody tr th {\n",
              "        vertical-align: top;\n",
              "    }\n",
              "\n",
              "    .dataframe thead th {\n",
              "        text-align: right;\n",
              "    }\n",
              "</style>\n",
              "<table border=\"1\" class=\"dataframe\">\n",
              "  <thead>\n",
              "    <tr style=\"text-align: right;\">\n",
              "      <th></th>\n",
              "      <th>reviews</th>\n",
              "    </tr>\n",
              "  </thead>\n",
              "  <tbody>\n",
              "    <tr>\n",
              "      <th>0</th>\n",
              "      <td>I was very disappointed with the service of P...</td>\n",
              "    </tr>\n",
              "    <tr>\n",
              "      <th>1</th>\n",
              "      <td>Given all the negative reviews about PIA, I...</td>\n",
              "    </tr>\n",
              "    <tr>\n",
              "      <th>2</th>\n",
              "      <td>I flew from Karachi to Toronto on PIA 777-20...</td>\n",
              "    </tr>\n",
              "    <tr>\n",
              "      <th>3</th>\n",
              "      <td>They cancelled my original booking without g...</td>\n",
              "    </tr>\n",
              "    <tr>\n",
              "      <th>4</th>\n",
              "      <td>Karachi to Gwadar. Travelled with this airlin...</td>\n",
              "    </tr>\n",
              "    <tr>\n",
              "      <th>...</th>\n",
              "      <td>...</td>\n",
              "    </tr>\n",
              "    <tr>\n",
              "      <th>158</th>\n",
              "      <td>None</td>\n",
              "    </tr>\n",
              "    <tr>\n",
              "      <th>159</th>\n",
              "      <td>None</td>\n",
              "    </tr>\n",
              "    <tr>\n",
              "      <th>160</th>\n",
              "      <td>None</td>\n",
              "    </tr>\n",
              "    <tr>\n",
              "      <th>161</th>\n",
              "      <td>None</td>\n",
              "    </tr>\n",
              "    <tr>\n",
              "      <th>162</th>\n",
              "      <td>None</td>\n",
              "    </tr>\n",
              "  </tbody>\n",
              "</table>\n",
              "<p>163 rows × 1 columns</p>\n",
              "</div>"
            ],
            "text/plain": [
              "                                               reviews\n",
              "0     I was very disappointed with the service of P...\n",
              "1       Given all the negative reviews about PIA, I...\n",
              "2      I flew from Karachi to Toronto on PIA 777-20...\n",
              "3      They cancelled my original booking without g...\n",
              "4     Karachi to Gwadar. Travelled with this airlin...\n",
              "..                                                 ...\n",
              "158                                               None\n",
              "159                                               None\n",
              "160                                               None\n",
              "161                                               None\n",
              "162                                               None\n",
              "\n",
              "[163 rows x 1 columns]"
            ]
          },
          "execution_count": 7,
          "metadata": {},
          "output_type": "execute_result"
        }
      ],
      "source": [
        "df"
      ]
    },
    {
      "cell_type": "markdown",
      "metadata": {
        "id": "AJSFDJsN-cHb"
      },
      "source": [
        "**Rule-based approach**\n",
        "\n",
        "This is a practical approach to analyzing text without training or using machine learning models. The result of this approach is a set of rules based on which the text is labeled as positive/negative/neutral. These rules are also known as lexicons. Hence, the Rule-based approach is called Lexicon based approach.\n",
        "\n",
        "Widely used lexicon-based approaches are TextBlob, VADER, SentiWordNet.\n",
        "\n",
        "**Data preprocessing steps:**\n",
        "\n",
        "Cleaning the text\n",
        "\n",
        "Tokenization\n",
        "\n",
        "Enrichment – POS tagging\n",
        "\n",
        "Stopwords removal\n",
        "\n",
        "Obtaining the stem words"
      ]
    },
    {
      "cell_type": "markdown",
      "metadata": {
        "id": "KMBi6LhOH4cS"
      },
      "source": [
        "# 2- Data preprocessing steps: Cleaning the text"
      ]
    },
    {
      "cell_type": "code",
      "execution_count": 8,
      "metadata": {
        "colab": {
          "base_uri": "https://localhost:8080/",
          "height": 206
        },
        "id": "gFqq9ahao2no",
        "outputId": "a69b2427-e482-423d-f154-6ae82b009cbb"
      },
      "outputs": [
        {
          "data": {
            "text/html": [
              "<div>\n",
              "<style scoped>\n",
              "    .dataframe tbody tr th:only-of-type {\n",
              "        vertical-align: middle;\n",
              "    }\n",
              "\n",
              "    .dataframe tbody tr th {\n",
              "        vertical-align: top;\n",
              "    }\n",
              "\n",
              "    .dataframe thead th {\n",
              "        text-align: right;\n",
              "    }\n",
              "</style>\n",
              "<table border=\"1\" class=\"dataframe\">\n",
              "  <thead>\n",
              "    <tr style=\"text-align: right;\">\n",
              "      <th></th>\n",
              "      <th>reviews</th>\n",
              "      <th>Cleaned Reviews</th>\n",
              "    </tr>\n",
              "  </thead>\n",
              "  <tbody>\n",
              "    <tr>\n",
              "      <th>0</th>\n",
              "      <td>I was very disappointed with the service of P...</td>\n",
              "      <td>I was very disappointed with the service of P...</td>\n",
              "    </tr>\n",
              "    <tr>\n",
              "      <th>1</th>\n",
              "      <td>Given all the negative reviews about PIA, I...</td>\n",
              "      <td>Given all the negative reviews about PIA I wa...</td>\n",
              "    </tr>\n",
              "    <tr>\n",
              "      <th>2</th>\n",
              "      <td>I flew from Karachi to Toronto on PIA 777-20...</td>\n",
              "      <td>I flew from Karachi to Toronto on PIA LR The ...</td>\n",
              "    </tr>\n",
              "    <tr>\n",
              "      <th>3</th>\n",
              "      <td>They cancelled my original booking without g...</td>\n",
              "      <td>They cancelled my original booking without gi...</td>\n",
              "    </tr>\n",
              "    <tr>\n",
              "      <th>4</th>\n",
              "      <td>Karachi to Gwadar. Travelled with this airlin...</td>\n",
              "      <td>Karachi to Gwadar Travelled with this airline...</td>\n",
              "    </tr>\n",
              "  </tbody>\n",
              "</table>\n",
              "</div>"
            ],
            "text/plain": [
              "                                             reviews  \\\n",
              "0   I was very disappointed with the service of P...   \n",
              "1     Given all the negative reviews about PIA, I...   \n",
              "2    I flew from Karachi to Toronto on PIA 777-20...   \n",
              "3    They cancelled my original booking without g...   \n",
              "4   Karachi to Gwadar. Travelled with this airlin...   \n",
              "\n",
              "                                     Cleaned Reviews  \n",
              "0   I was very disappointed with the service of P...  \n",
              "1   Given all the negative reviews about PIA I wa...  \n",
              "2   I flew from Karachi to Toronto on PIA LR The ...  \n",
              "3   They cancelled my original booking without gi...  \n",
              "4   Karachi to Gwadar Travelled with this airline...  "
            ]
          },
          "execution_count": 8,
          "metadata": {},
          "output_type": "execute_result"
        }
      ],
      "source": [
        "import re\n",
        "\n",
        "# Define a function to clean the text\n",
        "def clean(text):\n",
        "# Removes all special characters and numericals leaving the alphabets\n",
        "    text = re.sub('[^A-Za-z]+', ' ', str(text))\n",
        "    return text\n",
        "\n",
        "# Cleaning the text in the review column\n",
        "df['Cleaned Reviews'] = df['reviews'].apply(clean)\n",
        "df.head()"
      ]
    },
    {
      "cell_type": "markdown",
      "metadata": {
        "id": "Tkra_JkbH_Mg"
      },
      "source": [
        "# 3- Tokenization\n",
        "\n",
        "Tokenization is the process of breaking the text into smaller pieces called Tokens. It can be performed at sentences(sentence tokenization) or word level(word tokenization).\n",
        "\n",
        "# 4- Enrichment – POS tagging\n",
        "\n",
        "Parts of Speech (POS) tagging is a process of converting each token into a tuple having the form (word, tag). POS tagging essential to preserve the context of the word and is essential for Lemmatization.\n",
        "\n",
        "# 5- Stopwords removal\n",
        "Stopwords in English are words that carry very little useful information. We need to remove them as part of text preprocessing. nltk has a list of stopwords of every language. \n",
        "\n",
        "# 6- Obtaining the stem words\n",
        "A stem is a part of a word responsible for its lexical meaning. The two popular techniques of obtaining the root/stem words are Stemming and Lemmatization.\n",
        "\n",
        "The key difference is Stemming often gives some meaningless root words as it simply chops off some characters in the end. Lemmatization gives meaningful root words, however, it requires POS tags of the words.\n"
      ]
    },
    {
      "cell_type": "markdown",
      "metadata": {
        "id": "J2Zkcp26Oy-4"
      },
      "source": [
        " \n",
        "```\n",
        "NLTK is a leading platform for building Python programs to work with human language data. \n",
        "\n",
        "```\n",
        "\n",
        "```\n",
        "It provides easy-to-use interfaces to over 50 corpora and lexical resources such as WordNet, along \n",
        "with a suite of text processing libraries for classification, tokenization, stemming, tagging, \n",
        "parsing, and semantic reasoning, wrappers for industrial-strength NLP libraries\n",
        "```\n",
        "\n",
        "\n"
      ]
    },
    {
      "cell_type": "code",
      "execution_count": 9,
      "metadata": {
        "colab": {
          "base_uri": "https://localhost:8080/"
        },
        "id": "thPM6DJtH7tZ",
        "outputId": "c15c5aa2-5119-44b8-880f-bbfccba22597"
      },
      "outputs": [
        {
          "name": "stderr",
          "output_type": "stream",
          "text": [
            "[nltk_data] Downloading package punkt to\n",
            "[nltk_data]     C:\\Users\\AFT\\AppData\\Roaming\\nltk_data...\n",
            "[nltk_data]   Package punkt is already up-to-date!\n",
            "[nltk_data] Downloading package stopwords to\n",
            "[nltk_data]     C:\\Users\\AFT\\AppData\\Roaming\\nltk_data...\n",
            "[nltk_data]   Package stopwords is already up-to-date!\n",
            "[nltk_data] Downloading package wordnet to\n",
            "[nltk_data]     C:\\Users\\AFT\\AppData\\Roaming\\nltk_data...\n",
            "[nltk_data]   Package wordnet is already up-to-date!\n"
          ]
        }
      ],
      "source": [
        "import nltk\n",
        "\n",
        "\"\"\"This punkt tokenizer divides a text into a list of sentences by using an unsupervised algorithm to build a model for abbreviation words, \n",
        "collocations, and words that start sentences. \"\"\"\n",
        "\n",
        "nltk.download('punkt')\n",
        "from nltk.tokenize import word_tokenize\n",
        "from nltk import pos_tag\n",
        "nltk.download('stopwords')\n",
        "from nltk.corpus import stopwords\n",
        "nltk.download('wordnet')\n",
        "from nltk.corpus import wordnet\n",
        "\n"
      ]
    },
    {
      "cell_type": "code",
      "execution_count": 10,
      "metadata": {
        "colab": {
          "base_uri": "https://localhost:8080/",
          "height": 276
        },
        "id": "j0GQHwb2MZmU",
        "outputId": "ea4ac482-b9cf-4658-cb49-dde42d3fac67"
      },
      "outputs": [
        {
          "name": "stderr",
          "output_type": "stream",
          "text": [
            "[nltk_data] Downloading package omw-1.4 to\n",
            "[nltk_data]     C:\\Users\\AFT\\AppData\\Roaming\\nltk_data...\n"
          ]
        },
        {
          "name": "stderr",
          "output_type": "stream",
          "text": [
            "[nltk_data]   Package omw-1.4 is already up-to-date!\n",
            "[nltk_data] Downloading package averaged_perceptron_tagger to\n",
            "[nltk_data]     C:\\Users\\AFT\\AppData\\Roaming\\nltk_data...\n",
            "[nltk_data]   Package averaged_perceptron_tagger is already up-to-\n",
            "[nltk_data]       date!\n"
          ]
        },
        {
          "data": {
            "text/html": [
              "<div>\n",
              "<style scoped>\n",
              "    .dataframe tbody tr th:only-of-type {\n",
              "        vertical-align: middle;\n",
              "    }\n",
              "\n",
              "    .dataframe tbody tr th {\n",
              "        vertical-align: top;\n",
              "    }\n",
              "\n",
              "    .dataframe thead th {\n",
              "        text-align: right;\n",
              "    }\n",
              "</style>\n",
              "<table border=\"1\" class=\"dataframe\">\n",
              "  <thead>\n",
              "    <tr style=\"text-align: right;\">\n",
              "      <th></th>\n",
              "      <th>reviews</th>\n",
              "      <th>Cleaned Reviews</th>\n",
              "      <th>POS tagged</th>\n",
              "    </tr>\n",
              "  </thead>\n",
              "  <tbody>\n",
              "    <tr>\n",
              "      <th>0</th>\n",
              "      <td>I was very disappointed with the service of P...</td>\n",
              "      <td>I was very disappointed with the service of P...</td>\n",
              "      <td>[(disappointed, a), (service, n), (Pakistan, n...</td>\n",
              "    </tr>\n",
              "    <tr>\n",
              "      <th>1</th>\n",
              "      <td>Given all the negative reviews about PIA, I...</td>\n",
              "      <td>Given all the negative reviews about PIA I wa...</td>\n",
              "      <td>[(Given, v), (negative, a), (reviews, n), (PIA...</td>\n",
              "    </tr>\n",
              "    <tr>\n",
              "      <th>2</th>\n",
              "      <td>I flew from Karachi to Toronto on PIA 777-20...</td>\n",
              "      <td>I flew from Karachi to Toronto on PIA LR The ...</td>\n",
              "      <td>[(flew, v), (Karachi, n), (Toronto, n), (PIA, ...</td>\n",
              "    </tr>\n",
              "    <tr>\n",
              "      <th>3</th>\n",
              "      <td>They cancelled my original booking without g...</td>\n",
              "      <td>They cancelled my original booking without gi...</td>\n",
              "      <td>[(cancelled, v), (original, a), (booking, n), ...</td>\n",
              "    </tr>\n",
              "    <tr>\n",
              "      <th>4</th>\n",
              "      <td>Karachi to Gwadar. Travelled with this airlin...</td>\n",
              "      <td>Karachi to Gwadar Travelled with this airline...</td>\n",
              "      <td>[(Karachi, n), (Gwadar, n), (Travelled, n), (a...</td>\n",
              "    </tr>\n",
              "  </tbody>\n",
              "</table>\n",
              "</div>"
            ],
            "text/plain": [
              "                                             reviews  \\\n",
              "0   I was very disappointed with the service of P...   \n",
              "1     Given all the negative reviews about PIA, I...   \n",
              "2    I flew from Karachi to Toronto on PIA 777-20...   \n",
              "3    They cancelled my original booking without g...   \n",
              "4   Karachi to Gwadar. Travelled with this airlin...   \n",
              "\n",
              "                                     Cleaned Reviews  \\\n",
              "0   I was very disappointed with the service of P...   \n",
              "1   Given all the negative reviews about PIA I wa...   \n",
              "2   I flew from Karachi to Toronto on PIA LR The ...   \n",
              "3   They cancelled my original booking without gi...   \n",
              "4   Karachi to Gwadar Travelled with this airline...   \n",
              "\n",
              "                                          POS tagged  \n",
              "0  [(disappointed, a), (service, n), (Pakistan, n...  \n",
              "1  [(Given, v), (negative, a), (reviews, n), (PIA...  \n",
              "2  [(flew, v), (Karachi, n), (Toronto, n), (PIA, ...  \n",
              "3  [(cancelled, v), (original, a), (booking, n), ...  \n",
              "4  [(Karachi, n), (Gwadar, n), (Travelled, n), (a...  "
            ]
          },
          "execution_count": 10,
          "metadata": {},
          "output_type": "execute_result"
        }
      ],
      "source": [
        "#The nltk.corpus package defines a collection of corpus reader classes, which can be used to access the contents of a diverse set of corpora.\n",
        "\n",
        "\n",
        "nltk.download('omw-1.4')\n",
        "nltk.download('averaged_perceptron_tagger')\n",
        "\n",
        "# POS tagger dictionary\n",
        "pos_dict = {'J':wordnet.ADJ, 'V':wordnet.VERB, 'N':wordnet.NOUN, 'R':wordnet.ADV}\n",
        "def token_stop_pos(text):\n",
        "    tags = pos_tag(word_tokenize(text))\n",
        "    #print(tags)\n",
        "    newlist = []\n",
        "    for word, tag in tags:\n",
        "        if word.lower() not in set(stopwords.words('english')):\n",
        "          newlist.append(tuple([word, pos_dict.get(tag[0])]))\n",
        "          #print(tag[0])\n",
        "          #print(pos_dict.get(tag[0]))\n",
        "    return newlist \n",
        "\n",
        "df['POS tagged'] = df['Cleaned Reviews'].apply(token_stop_pos)\n",
        "df.head()"
      ]
    },
    {
      "cell_type": "code",
      "execution_count": 11,
      "metadata": {
        "colab": {
          "base_uri": "https://localhost:8080/",
          "height": 302
        },
        "id": "O_XO6pLnbBPk",
        "outputId": "77043a9a-b016-4101-c8ef-e68c533ffac9"
      },
      "outputs": [
        {
          "data": {
            "text/html": [
              "<div>\n",
              "<style scoped>\n",
              "    .dataframe tbody tr th:only-of-type {\n",
              "        vertical-align: middle;\n",
              "    }\n",
              "\n",
              "    .dataframe tbody tr th {\n",
              "        vertical-align: top;\n",
              "    }\n",
              "\n",
              "    .dataframe thead th {\n",
              "        text-align: right;\n",
              "    }\n",
              "</style>\n",
              "<table border=\"1\" class=\"dataframe\">\n",
              "  <thead>\n",
              "    <tr style=\"text-align: right;\">\n",
              "      <th></th>\n",
              "      <th>reviews</th>\n",
              "      <th>Cleaned Reviews</th>\n",
              "      <th>POS tagged</th>\n",
              "      <th>Lemma</th>\n",
              "    </tr>\n",
              "  </thead>\n",
              "  <tbody>\n",
              "    <tr>\n",
              "      <th>0</th>\n",
              "      <td>I was very disappointed with the service of P...</td>\n",
              "      <td>I was very disappointed with the service of P...</td>\n",
              "      <td>[(disappointed, a), (service, n), (Pakistan, n...</td>\n",
              "      <td>disappointed service Pakistan International ...</td>\n",
              "    </tr>\n",
              "    <tr>\n",
              "      <th>1</th>\n",
              "      <td>Given all the negative reviews about PIA, I...</td>\n",
              "      <td>Given all the negative reviews about PIA I wa...</td>\n",
              "      <td>[(Given, v), (negative, a), (reviews, n), (PIA...</td>\n",
              "      <td>Given negative review PIA nervous experience...</td>\n",
              "    </tr>\n",
              "    <tr>\n",
              "      <th>2</th>\n",
              "      <td>I flew from Karachi to Toronto on PIA 777-20...</td>\n",
              "      <td>I flew from Karachi to Toronto on PIA LR The ...</td>\n",
              "      <td>[(flew, v), (Karachi, n), (Toronto, n), (PIA, ...</td>\n",
              "      <td>fly Karachi Toronto PIA LR seat comfortable ...</td>\n",
              "    </tr>\n",
              "    <tr>\n",
              "      <th>3</th>\n",
              "      <td>They cancelled my original booking without g...</td>\n",
              "      <td>They cancelled my original booking without gi...</td>\n",
              "      <td>[(cancelled, v), (original, a), (booking, n), ...</td>\n",
              "      <td>cancel original booking without give reason ...</td>\n",
              "    </tr>\n",
              "    <tr>\n",
              "      <th>4</th>\n",
              "      <td>Karachi to Gwadar. Travelled with this airlin...</td>\n",
              "      <td>Karachi to Gwadar Travelled with this airline...</td>\n",
              "      <td>[(Karachi, n), (Gwadar, n), (Travelled, n), (a...</td>\n",
              "      <td>Karachi Gwadar Travelled airline travel shor...</td>\n",
              "    </tr>\n",
              "  </tbody>\n",
              "</table>\n",
              "</div>"
            ],
            "text/plain": [
              "                                             reviews  \\\n",
              "0   I was very disappointed with the service of P...   \n",
              "1     Given all the negative reviews about PIA, I...   \n",
              "2    I flew from Karachi to Toronto on PIA 777-20...   \n",
              "3    They cancelled my original booking without g...   \n",
              "4   Karachi to Gwadar. Travelled with this airlin...   \n",
              "\n",
              "                                     Cleaned Reviews  \\\n",
              "0   I was very disappointed with the service of P...   \n",
              "1   Given all the negative reviews about PIA I wa...   \n",
              "2   I flew from Karachi to Toronto on PIA LR The ...   \n",
              "3   They cancelled my original booking without gi...   \n",
              "4   Karachi to Gwadar Travelled with this airline...   \n",
              "\n",
              "                                          POS tagged  \\\n",
              "0  [(disappointed, a), (service, n), (Pakistan, n...   \n",
              "1  [(Given, v), (negative, a), (reviews, n), (PIA...   \n",
              "2  [(flew, v), (Karachi, n), (Toronto, n), (PIA, ...   \n",
              "3  [(cancelled, v), (original, a), (booking, n), ...   \n",
              "4  [(Karachi, n), (Gwadar, n), (Travelled, n), (a...   \n",
              "\n",
              "                                               Lemma  \n",
              "0    disappointed service Pakistan International ...  \n",
              "1    Given negative review PIA nervous experience...  \n",
              "2    fly Karachi Toronto PIA LR seat comfortable ...  \n",
              "3    cancel original booking without give reason ...  \n",
              "4    Karachi Gwadar Travelled airline travel shor...  "
            ]
          },
          "execution_count": 11,
          "metadata": {},
          "output_type": "execute_result"
        }
      ],
      "source": [
        "# Obtaining the stem words – Lemmatization\n",
        "\n",
        "from nltk.stem import WordNetLemmatizer\n",
        "wordnet_lemmatizer = WordNetLemmatizer()\n",
        "def lemmatize(pos_data):\n",
        "    lemma_rew = \" \"\n",
        "    for word, pos in pos_data:\n",
        "     if not pos:\n",
        "        lemma = word\n",
        "        lemma_rew = lemma_rew + \" \" + lemma\n",
        "     else:\n",
        "        lemma = wordnet_lemmatizer.lemmatize(word, pos=pos)\n",
        "        lemma_rew = lemma_rew + \" \" + lemma\n",
        "    return lemma_rew\n",
        "\n",
        "df['Lemma'] = df['POS tagged'].apply(lemmatize)\n",
        "df.head()"
      ]
    },
    {
      "cell_type": "code",
      "execution_count": 12,
      "metadata": {
        "colab": {
          "base_uri": "https://localhost:8080/",
          "height": 424
        },
        "id": "tJhuV8ogg6zL",
        "outputId": "fed6347b-7d1f-4088-a4a7-06bac6881e6b"
      },
      "outputs": [
        {
          "data": {
            "text/html": [
              "<div>\n",
              "<style scoped>\n",
              "    .dataframe tbody tr th:only-of-type {\n",
              "        vertical-align: middle;\n",
              "    }\n",
              "\n",
              "    .dataframe tbody tr th {\n",
              "        vertical-align: top;\n",
              "    }\n",
              "\n",
              "    .dataframe thead th {\n",
              "        text-align: right;\n",
              "    }\n",
              "</style>\n",
              "<table border=\"1\" class=\"dataframe\">\n",
              "  <thead>\n",
              "    <tr style=\"text-align: right;\">\n",
              "      <th></th>\n",
              "      <th>reviews</th>\n",
              "      <th>Lemma</th>\n",
              "    </tr>\n",
              "  </thead>\n",
              "  <tbody>\n",
              "    <tr>\n",
              "      <th>0</th>\n",
              "      <td>I was very disappointed with the service of P...</td>\n",
              "      <td>disappointed service Pakistan International ...</td>\n",
              "    </tr>\n",
              "    <tr>\n",
              "      <th>1</th>\n",
              "      <td>Given all the negative reviews about PIA, I...</td>\n",
              "      <td>Given negative review PIA nervous experience...</td>\n",
              "    </tr>\n",
              "    <tr>\n",
              "      <th>2</th>\n",
              "      <td>I flew from Karachi to Toronto on PIA 777-20...</td>\n",
              "      <td>fly Karachi Toronto PIA LR seat comfortable ...</td>\n",
              "    </tr>\n",
              "    <tr>\n",
              "      <th>3</th>\n",
              "      <td>They cancelled my original booking without g...</td>\n",
              "      <td>cancel original booking without give reason ...</td>\n",
              "    </tr>\n",
              "    <tr>\n",
              "      <th>4</th>\n",
              "      <td>Karachi to Gwadar. Travelled with this airlin...</td>\n",
              "      <td>Karachi Gwadar Travelled airline travel shor...</td>\n",
              "    </tr>\n",
              "    <tr>\n",
              "      <th>...</th>\n",
              "      <td>...</td>\n",
              "      <td>...</td>\n",
              "    </tr>\n",
              "    <tr>\n",
              "      <th>158</th>\n",
              "      <td>None</td>\n",
              "      <td>None</td>\n",
              "    </tr>\n",
              "    <tr>\n",
              "      <th>159</th>\n",
              "      <td>None</td>\n",
              "      <td>None</td>\n",
              "    </tr>\n",
              "    <tr>\n",
              "      <th>160</th>\n",
              "      <td>None</td>\n",
              "      <td>None</td>\n",
              "    </tr>\n",
              "    <tr>\n",
              "      <th>161</th>\n",
              "      <td>None</td>\n",
              "      <td>None</td>\n",
              "    </tr>\n",
              "    <tr>\n",
              "      <th>162</th>\n",
              "      <td>None</td>\n",
              "      <td>None</td>\n",
              "    </tr>\n",
              "  </tbody>\n",
              "</table>\n",
              "<p>163 rows × 2 columns</p>\n",
              "</div>"
            ],
            "text/plain": [
              "                                               reviews  \\\n",
              "0     I was very disappointed with the service of P...   \n",
              "1       Given all the negative reviews about PIA, I...   \n",
              "2      I flew from Karachi to Toronto on PIA 777-20...   \n",
              "3      They cancelled my original booking without g...   \n",
              "4     Karachi to Gwadar. Travelled with this airlin...   \n",
              "..                                                 ...   \n",
              "158                                               None   \n",
              "159                                               None   \n",
              "160                                               None   \n",
              "161                                               None   \n",
              "162                                               None   \n",
              "\n",
              "                                                 Lemma  \n",
              "0      disappointed service Pakistan International ...  \n",
              "1      Given negative review PIA nervous experience...  \n",
              "2      fly Karachi Toronto PIA LR seat comfortable ...  \n",
              "3      cancel original booking without give reason ...  \n",
              "4      Karachi Gwadar Travelled airline travel shor...  \n",
              "..                                                 ...  \n",
              "158                                               None  \n",
              "159                                               None  \n",
              "160                                               None  \n",
              "161                                               None  \n",
              "162                                               None  \n",
              "\n",
              "[163 rows x 2 columns]"
            ]
          },
          "execution_count": 12,
          "metadata": {},
          "output_type": "execute_result"
        }
      ],
      "source": [
        "df[['reviews','Lemma']]"
      ]
    },
    {
      "cell_type": "markdown",
      "metadata": {
        "id": "CV_ELt61kmh9"
      },
      "source": [
        "# Sentiment Analysis using VADER\n",
        "\n",
        "VADER stands for Valence Aware Dictionary and Sentiment Reasoner.\n",
        "\n",
        "Vader sentiment not only tells if the statement is positive or negative along with the intensity of emotion.\n",
        "\n"
      ]
    },
    {
      "cell_type": "code",
      "execution_count": 13,
      "metadata": {
        "colab": {
          "base_uri": "https://localhost:8080/"
        },
        "id": "XgsAuU10jwJ7",
        "outputId": "eaea68e1-4578-4859-dda0-4e2b54f06306"
      },
      "outputs": [
        {
          "name": "stdout",
          "output_type": "stream",
          "text": [
            "Requirement already satisfied: vaderSentiment in c:\\users\\aft\\anaconda3\\envs\\streamlit\\lib\\site-packages (3.3.2)\n",
            "Requirement already satisfied: requests in c:\\users\\aft\\anaconda3\\envs\\streamlit\\lib\\site-packages (from vaderSentiment) (2.31.0)\n",
            "Requirement already satisfied: charset-normalizer<4,>=2 in c:\\users\\aft\\anaconda3\\envs\\streamlit\\lib\\site-packages (from requests->vaderSentiment) (2.0.4)\n",
            "Requirement already satisfied: idna<4,>=2.5 in c:\\users\\aft\\anaconda3\\envs\\streamlit\\lib\\site-packages (from requests->vaderSentiment) (3.4)\n",
            "Requirement already satisfied: urllib3<3,>=1.21.1 in c:\\users\\aft\\anaconda3\\envs\\streamlit\\lib\\site-packages (from requests->vaderSentiment) (1.26.16)\n",
            "Requirement already satisfied: certifi>=2017.4.17 in c:\\users\\aft\\anaconda3\\envs\\streamlit\\lib\\site-packages (from requests->vaderSentiment) (2023.7.22)\n"
          ]
        }
      ],
      "source": [
        "!pip install vaderSentiment"
      ]
    },
    {
      "cell_type": "code",
      "execution_count": 14,
      "metadata": {
        "colab": {
          "base_uri": "https://localhost:8080/",
          "height": 337
        },
        "id": "vPD0nmUqkjMr",
        "outputId": "28578b09-98b7-42ef-9f6f-7f71492ecd44"
      },
      "outputs": [
        {
          "data": {
            "text/html": [
              "<div>\n",
              "<style scoped>\n",
              "    .dataframe tbody tr th:only-of-type {\n",
              "        vertical-align: middle;\n",
              "    }\n",
              "\n",
              "    .dataframe tbody tr th {\n",
              "        vertical-align: top;\n",
              "    }\n",
              "\n",
              "    .dataframe thead th {\n",
              "        text-align: right;\n",
              "    }\n",
              "</style>\n",
              "<table border=\"1\" class=\"dataframe\">\n",
              "  <thead>\n",
              "    <tr style=\"text-align: right;\">\n",
              "      <th></th>\n",
              "      <th>reviews</th>\n",
              "      <th>Cleaned Reviews</th>\n",
              "      <th>POS tagged</th>\n",
              "      <th>Lemma</th>\n",
              "      <th>Sentiment</th>\n",
              "      <th>Analysis</th>\n",
              "    </tr>\n",
              "  </thead>\n",
              "  <tbody>\n",
              "    <tr>\n",
              "      <th>0</th>\n",
              "      <td>I was very disappointed with the service of P...</td>\n",
              "      <td>I was very disappointed with the service of P...</td>\n",
              "      <td>[(disappointed, a), (service, n), (Pakistan, n...</td>\n",
              "      <td>disappointed service Pakistan International ...</td>\n",
              "      <td>-0.8979</td>\n",
              "      <td>Negative</td>\n",
              "    </tr>\n",
              "    <tr>\n",
              "      <th>1</th>\n",
              "      <td>Given all the negative reviews about PIA, I...</td>\n",
              "      <td>Given all the negative reviews about PIA I wa...</td>\n",
              "      <td>[(Given, v), (negative, a), (reviews, n), (PIA...</td>\n",
              "      <td>Given negative review PIA nervous experience...</td>\n",
              "      <td>-0.7264</td>\n",
              "      <td>Negative</td>\n",
              "    </tr>\n",
              "    <tr>\n",
              "      <th>2</th>\n",
              "      <td>I flew from Karachi to Toronto on PIA 777-20...</td>\n",
              "      <td>I flew from Karachi to Toronto on PIA LR The ...</td>\n",
              "      <td>[(flew, v), (Karachi, n), (Toronto, n), (PIA, ...</td>\n",
              "      <td>fly Karachi Toronto PIA LR seat comfortable ...</td>\n",
              "      <td>0.9633</td>\n",
              "      <td>Positive</td>\n",
              "    </tr>\n",
              "    <tr>\n",
              "      <th>3</th>\n",
              "      <td>They cancelled my original booking without g...</td>\n",
              "      <td>They cancelled my original booking without gi...</td>\n",
              "      <td>[(cancelled, v), (original, a), (booking, n), ...</td>\n",
              "      <td>cancel original booking without give reason ...</td>\n",
              "      <td>-0.0941</td>\n",
              "      <td>Negative</td>\n",
              "    </tr>\n",
              "    <tr>\n",
              "      <th>4</th>\n",
              "      <td>Karachi to Gwadar. Travelled with this airlin...</td>\n",
              "      <td>Karachi to Gwadar Travelled with this airline...</td>\n",
              "      <td>[(Karachi, n), (Gwadar, n), (Travelled, n), (a...</td>\n",
              "      <td>Karachi Gwadar Travelled airline travel shor...</td>\n",
              "      <td>0.7269</td>\n",
              "      <td>Positive</td>\n",
              "    </tr>\n",
              "  </tbody>\n",
              "</table>\n",
              "</div>"
            ],
            "text/plain": [
              "                                             reviews  \\\n",
              "0   I was very disappointed with the service of P...   \n",
              "1     Given all the negative reviews about PIA, I...   \n",
              "2    I flew from Karachi to Toronto on PIA 777-20...   \n",
              "3    They cancelled my original booking without g...   \n",
              "4   Karachi to Gwadar. Travelled with this airlin...   \n",
              "\n",
              "                                     Cleaned Reviews  \\\n",
              "0   I was very disappointed with the service of P...   \n",
              "1   Given all the negative reviews about PIA I wa...   \n",
              "2   I flew from Karachi to Toronto on PIA LR The ...   \n",
              "3   They cancelled my original booking without gi...   \n",
              "4   Karachi to Gwadar Travelled with this airline...   \n",
              "\n",
              "                                          POS tagged  \\\n",
              "0  [(disappointed, a), (service, n), (Pakistan, n...   \n",
              "1  [(Given, v), (negative, a), (reviews, n), (PIA...   \n",
              "2  [(flew, v), (Karachi, n), (Toronto, n), (PIA, ...   \n",
              "3  [(cancelled, v), (original, a), (booking, n), ...   \n",
              "4  [(Karachi, n), (Gwadar, n), (Travelled, n), (a...   \n",
              "\n",
              "                                               Lemma  Sentiment  Analysis  \n",
              "0    disappointed service Pakistan International ...    -0.8979  Negative  \n",
              "1    Given negative review PIA nervous experience...    -0.7264  Negative  \n",
              "2    fly Karachi Toronto PIA LR seat comfortable ...     0.9633  Positive  \n",
              "3    cancel original booking without give reason ...    -0.0941  Negative  \n",
              "4    Karachi Gwadar Travelled airline travel shor...     0.7269  Positive  "
            ]
          },
          "execution_count": 14,
          "metadata": {},
          "output_type": "execute_result"
        }
      ],
      "source": [
        "from vaderSentiment.vaderSentiment import SentimentIntensityAnalyzer\n",
        "analyzer = SentimentIntensityAnalyzer()\n",
        "\n",
        "\n",
        "# function to calculate vader sentiment\n",
        "def vadersentimentanalysis(review):\n",
        "    vs = analyzer.polarity_scores(review)\n",
        "    return vs['compound']\n",
        "\n",
        "df['Sentiment'] = df['Lemma'].apply(vadersentimentanalysis)\n",
        "\n",
        "# function to analyse\n",
        "def vader_analysis(compound):\n",
        "    if compound >= 0.5:\n",
        "        return 'Positive'\n",
        "    elif compound < 0 :\n",
        "        return 'Negative'\n",
        "    else:\n",
        "        return 'Neutral'\n",
        "df['Analysis'] = df['Sentiment'].apply(vader_analysis)\n",
        "df.head()"
      ]
    },
    {
      "cell_type": "code",
      "execution_count": 15,
      "metadata": {
        "colab": {
          "base_uri": "https://localhost:8080/"
        },
        "id": "9szxF3ZRl6Uz",
        "outputId": "1f788056-636d-4a28-9ffb-1d6f0129e6e1"
      },
      "outputs": [
        {
          "data": {
            "text/plain": [
              "Analysis\n",
              "Neutral     120\n",
              "Positive     25\n",
              "Negative     18\n",
              "Name: count, dtype: int64"
            ]
          },
          "execution_count": 15,
          "metadata": {},
          "output_type": "execute_result"
        }
      ],
      "source": [
        "vader_counts = df['Analysis'].value_counts()\n",
        "vader_counts"
      ]
    },
    {
      "cell_type": "markdown",
      "metadata": {
        "id": "OmQEB_0emF9C"
      },
      "source": [
        "# Visual Representation"
      ]
    },
    {
      "cell_type": "code",
      "execution_count": 16,
      "metadata": {
        "colab": {
          "base_uri": "https://localhost:8080/",
          "height": 449
        },
        "id": "m3szQ7aOmFXx",
        "outputId": "65b90dce-fcc0-4294-8174-0442d9a744ca"
      },
      "outputs": [
        {
          "data": {
            "text/plain": [
              "([<matplotlib.patches.Wedge at 0x1e0f0469570>,\n",
              "  <matplotlib.patches.Wedge at 0x1e0f0410670>,\n",
              "  <matplotlib.patches.Wedge at 0x1e0f046a260>],\n",
              " [Text(-0.7433663497380536, 0.8108060619390571, 'Neutral'),\n",
              "  Text(0.42339908955836086, -1.0152503193602804, 'Positive'),\n",
              "  Text(1.269571002615134, -0.4590092257447601, 'Negative')],\n",
              " [Text(-0.4054725544025746, 0.4422578519667584, '73.6%'),\n",
              "  Text(0.23094495794092407, -0.5537729014692439, '15.3%'),\n",
              "  Text(0.799359520165084, -0.28900580880225635, '11.0%')])"
            ]
          },
          "execution_count": 16,
          "metadata": {},
          "output_type": "execute_result"
        },
        {
          "data": {
            "image/png": "[encoded data removed]",
            "text/plain": [
              "<Figure size 1500x700 with 1 Axes>"
            ]
          },
          "metadata": {},
          "output_type": "display_data"
        }
      ],
      "source": [
        "import matplotlib.pyplot as plt\n",
        "%matplotlib inline\n",
        "plt.figure(figsize=(15,7))\n",
        "\n",
        "plt.subplot(1,3,2)\n",
        "plt.title(\"Reviews Analysis of PIA\")\n",
        "plt.pie(vader_counts.values, labels = vader_counts.index, explode = (0, 0, 0.25), autopct='%1.1f%%', shadow=False)"
      ]
    },
    {
      "cell_type": "code",
      "execution_count": 19,
      "metadata": {
        "id": "cbljobhwmvMy"
      },
      "outputs": [],
      "source": [
        "# df.to_csv(\"PIA_reviews.csv\")\n",
        "import pandas as pd\n",
        "df.to_csv(r'C:\\Users\\AFT\\Desktop\\six-months_python_for_data_science-mentorship-program-main\\07_machine_learning\\sentiment analysis\\customer_booking.csv', index=False)\n"
      ]
    },
    {
      "cell_type": "markdown",
      "metadata": {
        "id": "ouPC4AH6y6oR"
      },
      "source": [
        "# Wordcloud\n",
        "\n",
        "Word Cloud or Tag Clouds is a visualization technique for texts that are natively used for visualizing the tags or keywords from the websites"
      ]
    },
    {
      "cell_type": "code",
      "execution_count": 20,
      "metadata": {
        "colab": {
          "base_uri": "https://localhost:8080/",
          "height": 366
        },
        "id": "SCGZ8UrWw8KC",
        "outputId": "acb593f7-44de-4ba1-9525-13661b303603"
      },
      "outputs": [
        {
          "data": {
            "image/png": "[encoded data removed]",
            "text/plain": [
              "<Figure size 1200x1200 with 1 Axes>"
            ]
          },
          "metadata": {},
          "output_type": "display_data"
        }
      ],
      "source": [
        "from wordcloud import WordCloud, STOPWORDS\n",
        "stopwords = set(STOPWORDS)\n",
        "\n",
        "def show_wordcloud(data):\n",
        "    wordcloud = WordCloud(\n",
        "        background_color='white',\n",
        "        stopwords=stopwords,\n",
        "        max_words=100,\n",
        "        max_font_size=30,\n",
        "        scale=3,\n",
        "        random_state=1)\n",
        "\n",
        "    wordcloud=wordcloud.generate(str(data))\n",
        "\n",
        "    fig = plt.figure(1, figsize=(12, 12))\n",
        "    plt.axis('off')\n",
        "\n",
        "    plt.imshow(wordcloud)\n",
        "    plt.show()\n",
        "\n",
        "show_wordcloud(df.Lemma)"
      ]
    }
  ],
  "metadata": {
    "colab": {
      "include_colab_link": true,
      "provenance": []
    },
    "kernelspec": {
      "display_name": "Python 3.9.13 ('venv': venv)",
      "language": "python",
      "name": "python3"
    },
    "language_info": {
      "codemirror_mode": {
        "name": "ipython",
        "version": 3
      },
      "file_extension": ".py",
      "mimetype": "text/x-python",
      "name": "python",
      "nbconvert_exporter": "python",
      "pygments_lexer": "ipython3",
      "version": "3.10.0"
    },
    "orig_nbformat": 4,
    "vscode": {
      "interpreter": {
        "hash": "4f7924c4c56b083e0e50eadfe7ef592a7a8ef70df33a0047f82280e6be1afe15"
      }
    }
  },
  "nbformat": 4,
  "nbformat_minor": 0
}
